{
 "metadata": {
  "language_info": {
   "codemirror_mode": {
    "name": "ipython",
    "version": 3
   },
   "file_extension": ".py",
   "mimetype": "text/x-python",
   "name": "python",
   "nbconvert_exporter": "python",
   "pygments_lexer": "ipython3",
   "version": "3.8.3-final"
  },
  "orig_nbformat": 2,
  "kernelspec": {
   "name": "python3",
   "display_name": "Python 3"
  }
 },
 "nbformat": 4,
 "nbformat_minor": 2,
 "cells": [
  {
   "cell_type": "code",
   "execution_count": 1,
   "metadata": {},
   "outputs": [],
   "source": [
    "import os\n",
    "\n",
    "import pymysql\n",
    "import pandas as pd\n",
    "\n",
    "from sqlalchemy import create_engine\n",
    "from dotenv import load_dotenv\n"
   ]
  },
  {
   "cell_type": "code",
   "execution_count": 2,
   "metadata": {},
   "outputs": [
    {
     "output_type": "execute_result",
     "data": {
      "text/plain": "True"
     },
     "metadata": {},
     "execution_count": 2
    }
   ],
   "source": [
    "# setup env\n",
    "load_dotenv()"
   ]
  },
  {
   "cell_type": "code",
   "execution_count": 3,
   "metadata": {},
   "outputs": [],
   "source": [
    "# setup db\n",
    "user = os.getenv('MYSQL_USER')\n",
    "password = os.getenv('MYSQL_PASSWORD')\n",
    "host = os.getenv('MYSQL_HOST')\n",
    "db = os.getenv('MYSQL_DB')\n",
    "\n",
    "conn_text = 'mysql+pymysql://{}:{}@{}/{}'.format(user,password,host,db)\n",
    "sqlEngine = create_engine(conn_text)"
   ]
  },
  {
   "cell_type": "code",
   "execution_count": 4,
   "metadata": {},
   "outputs": [],
   "source": [
    "# load data from db\n",
    "dbConnection = sqlEngine.connect()\n",
    "tag = pd.read_sql(\"select * from basic_tag\", dbConnection);\n",
    "event_tags = pd.read_sql(\"select * from basic_event_tags\", dbConnection);\n",
    "tag_category = pd.read_sql(\"select * from basic_tagcategory\", dbConnection);\n",
    "event = pd.read_sql(\"select * from basic_event\", dbConnection);\n",
    "experiment = pd.read_sql(\"select * from basic_experiment\", dbConnection);\n",
    "experiment_item = pd.read_sql(\"select * from basic_experimentitem\", dbConnection);\n",
    "request_log = pd.read_sql(\"select * from rest_framework_tracking_apirequestlog LIMIT 1000000;\", dbConnection);\n",
    "event_material_list = pd.read_sql(\"select * from basic_event_material_list\", dbConnection);\n",
    "\n",
    "dbConnection.close()"
   ]
  },
  {
   "cell_type": "code",
   "execution_count": 5,
   "metadata": {},
   "outputs": [],
   "source": [
    "# transform request_log data\n",
    "request_log = request_log[['requested_at', 'path', 'query_params', 'status_code']]"
   ]
  },
  {
   "cell_type": "code",
   "execution_count": 6,
   "metadata": {},
   "outputs": [],
   "source": [
    "# transform event data\n",
    "event = event[event['isActive'] == True]\n",
    "event = event[['id', 'title', 'description', 'costsRating', 'executionTimeRating', 'isPrepairationNeeded', 'imageLink', 'created_at', 'createdBy']]\n"
   ]
  },
  {
   "cell_type": "code",
   "execution_count": 7,
   "metadata": {},
   "outputs": [],
   "source": [
    "\n",
    "event.to_parquet('data/event.parquet', coerce_timestamps=\"us\")\n",
    "tag.to_parquet('data/tag.parquet', coerce_timestamps=\"us\")\n",
    "event_tags.to_parquet('data/event_tags.parquet', coerce_timestamps=\"us\")\n",
    "tag_category.to_parquet('data/tag_category.parquet', coerce_timestamps=\"us\")\n",
    "experiment.to_parquet('data/experiment.parquet', coerce_timestamps=\"us\")\n",
    "request_log.to_parquet('data/request_log.parquet', coerce_timestamps=\"us\")\n",
    "experiment_item.to_parquet('data/experiment_item.parquet', coerce_timestamps=\"us\")\n",
    "event_material_list.to_parquet('data/event_material_list.parquet', coerce_timestamps=\"us\")"
   ]
  },
  {
   "cell_type": "code",
   "execution_count": null,
   "metadata": {},
   "outputs": [],
   "source": []
  }
 ]
}