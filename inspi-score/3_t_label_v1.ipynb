{
 "cells": [
  {
   "cell_type": "code",
   "execution_count": 98,
   "metadata": {
    "collapsed": false
   },
   "outputs": [],
   "source": [
    "import pandas as pd\n",
    "\n",
    "import spacy\n",
    "import collections\n",
    "\n",
    "from bs4 import BeautifulSoup as BS\n",
    "\n",
    "nlp = spacy.load('de_core_news_sm')\n",
    "\n",
    "pd.set_option('display.max_rows', 500)\n",
    "pd.set_option('display.max_columns', 500)\n",
    "pd.set_option('display.width', 1000)"
   ]
  },
  {
   "cell_type": "code",
   "execution_count": 99,
   "metadata": {},
   "outputs": [],
   "source": [
    "df_tag_category = pd.read_parquet('data/tag_category.parquet')\n",
    "df_tag = pd.read_parquet('data/tag.parquet')\n",
    "\n",
    "df_event = pd.read_parquet('data/event.parquet')\n",
    "df_event_tags = pd.read_parquet('data/event_tags.parquet')\n",
    "df_event_material_list = pd.read_parquet('data/event_material_list.parquet')\n",
    "\n",
    "df_experiment = pd.read_parquet('data/experiment.parquet')\n",
    "df_experiment_item = pd.read_parquet('data/experiment_item.parquet')\n",
    "\n",
    "df_feature_vector = pd.read_parquet('data/feature_vector.parquet')"
   ]
  },
  {
   "cell_type": "code",
   "execution_count": 100,
   "metadata": {},
   "outputs": [],
   "source": [
    "df_feature_vector = df_feature_vector[[\n",
    "  'id',\n",
    "  'title',\n",
    "  'description',\n",
    "\n",
    "  'p_tag',\n",
    "  'img_tag',\n",
    "  'b_tag',\n",
    "  'li_tag',\n",
    "  'header_img',\n",
    "  'text_len',\n",
    "  'span_tag',\n",
    "  'a_tag',\n",
    "  'u_tag',\n",
    "\n",
    "  'costsRating',\n",
    "  'executionTimeRating',\n",
    "  'isPrepairationNeeded',\n",
    "\n",
    "  'total_words',\n",
    "\n",
    "  'nomen_quote',\n",
    "  'adjektive_quote',\n",
    "  'numerisch_quote',\n",
    "  'satzzeichen_quote',\n",
    "  'konjunktion_quote',\n",
    "\n",
    "  'count_question_mark'\n",
    "]]"
   ]
  },
  {
   "cell_type": "code",
   "execution_count": 101,
   "metadata": {
    "collapsed": false
   },
   "outputs": [],
   "source": [
    "def percentage_change(col1, col2):\n",
    "    return col1 / col2 * 100"
   ]
  },
  {
   "cell_type": "code",
   "execution_count": 102,
   "metadata": {
    "collapsed": false
   },
   "outputs": [],
   "source": [
    "def calc_label_score(unklar, doof, gut, sehr_gut, count):\n",
    "    score = (doof * 1 + gut * 3 + sehr_gut * 5) / count\n",
    "    return score"
   ]
  },
  {
   "cell_type": "code",
   "execution_count": 54,
   "metadata": {
    "collapsed": false
   },
   "outputs": [
    {
     "output_type": "execute_result",
     "data": {
      "text/plain": "Empty DataFrame\nColumns: [id, title, description, costsRating, executionTimeRating, isPrepairationNeeded, imageLink, created_at, createdBy, event_id_id, Bewertungen, doof, gut, sehr_gut, unklar, doof_rate, gut_rate, sehr_gut_rate, unklar_rate, calc_label_score]\nIndex: []",
      "text/html": "<div>\n<style scoped>\n    .dataframe tbody tr th:only-of-type {\n        vertical-align: middle;\n    }\n\n    .dataframe tbody tr th {\n        vertical-align: top;\n    }\n\n    .dataframe thead th {\n        text-align: right;\n    }\n</style>\n<table border=\"1\" class=\"dataframe\">\n  <thead>\n    <tr style=\"text-align: right;\">\n      <th></th>\n      <th>id</th>\n      <th>title</th>\n      <th>description</th>\n      <th>costsRating</th>\n      <th>executionTimeRating</th>\n      <th>isPrepairationNeeded</th>\n      <th>imageLink</th>\n      <th>created_at</th>\n      <th>createdBy</th>\n      <th>event_id_id</th>\n      <th>Bewertungen</th>\n      <th>doof</th>\n      <th>gut</th>\n      <th>sehr_gut</th>\n      <th>unklar</th>\n      <th>doof_rate</th>\n      <th>gut_rate</th>\n      <th>sehr_gut_rate</th>\n      <th>unklar_rate</th>\n      <th>calc_label_score</th>\n    </tr>\n  </thead>\n  <tbody>\n  </tbody>\n</table>\n</div>"
     },
     "metadata": {},
     "execution_count": 54
    }
   ],
   "source": []
  },
  {
   "cell_type": "code",
   "execution_count": 103,
   "metadata": {
    "collapsed": false
   },
   "outputs": [],
   "source": [
    "df_label_temp = df_experiment_item.groupby([\"event_id_id\"]).size().reset_index(name='Bewertungen')\n",
    "df_1 = df_experiment_item[df_experiment_item['score'] == 1].groupby([\"event_id_id\"]).size().reset_index(name='doof')\n",
    "df_2 = df_experiment_item[df_experiment_item['score'] == 2].groupby([\"event_id_id\"]).size().reset_index(name='gut')\n",
    "df_3 = df_experiment_item[df_experiment_item['score'] == 3].groupby([\"event_id_id\"]).size().reset_index(name='sehr_gut')\n",
    "df_4 = df_experiment_item[df_experiment_item['score'] == 4].groupby([\"event_id_id\"]).size().reset_index(name='unklar')\n",
    "\n",
    "df_label_temp_2 = df_label_temp.join(\n",
    "    df_1.set_index('event_id_id'), on='event_id_id').join(\n",
    "    df_2.set_index('event_id_id'), on='event_id_id').join(\n",
    "    df_3.set_index('event_id_id'), on='event_id_id').join(\n",
    "    df_4.set_index('event_id_id'), on='event_id_id')\n",
    "\n",
    "df_label_temp_2 = df_label_temp_2.fillna(0)\n",
    "\n",
    "df_label = pd.merge(df_event, df_label_temp_2, left_on=['id'], right_on= ['event_id_id'], how = 'left')"
   ]
  },
  {
   "cell_type": "code",
   "execution_count": 104,
   "metadata": {},
   "outputs": [],
   "source": [
    "df_label['doof_rate'] = percentage_change(df_label['doof'], df_label['Bewertungen'])\n",
    "df_label['gut_rate'] = percentage_change(df_label['gut'], df_label['Bewertungen'])\n",
    "df_label['sehr_gut_rate'] = percentage_change(df_label['sehr_gut'], df_label['Bewertungen'])\n",
    "df_label['unklar_rate'] = percentage_change(df_label['unklar'], df_label['Bewertungen'])\n",
    "\n",
    "df_label['calc_label_score'] = calc_label_score(df_label['unklar'], df_label['doof'], df_label['gut'], df_label['sehr_gut'], df_label['Bewertungen'])\n",
    "\n",
    "# df = pd.merge(df_label, event_tags_features, left_on=['id'], right_on= ['event_id'], how = 'left')\n",
    "# df_raw = df\n",
    "\n",
    "df_label = df_label[df_label['Bewertungen'] > 1]\n",
    "df_label = df_label[df_label['unklar'] == 0]\n",
    "\n",
    "df_label = df_label.round(2)\n",
    "\n",
    "df_label.to_parquet('data/label_v1.parquet', coerce_timestamps=\"us\")"
   ]
  },
  {
   "cell_type": "code",
   "execution_count": 105,
   "metadata": {
    "collapsed": false,
    "scrolled": true
   },
   "outputs": [
    {
     "output_type": "execute_result",
     "data": {
      "text/plain": "   id                                    title                                        description  costsRating  executionTimeRating  isPrepairationNeeded                                          imageLink                 created_at createdBy  event_id_id  Bewertungen  doof  gut  sehr_gut  unklar  doof_rate  gut_rate  sehr_gut_rate  unklar_rate  calc_label_score\n1   2      Bist du Bündisch oder Scoutistisch?  <p>Ihr k&ouml;nnt verschiedene Situationen aus...            0                    1                     0  https://api.xrdcx.de/media/images/3a63be00-7f8... 2021-03-07 20:00:27.660006    Robert          2.0          2.0   0.0  2.0       0.0     0.0        0.0     100.0            0.0          0.0               3.0\n2   3  Behelfstrage aus Naturmaterialien bauen  <p>Ihr k&ouml;nnt in den Wald gehen und dort a...            0                    3                     0                                               None 2021-03-07 20:00:27.660006    Robert          3.0          2.0   0.0  2.0       0.0     0.0        0.0     100.0            0.0          0.0               3.0\n3   4        Gepäckteile besprechen und wiegen  <p>Ihr kommt mit einem gepackten Rucksack zum ...            0                    3                     1                                               None 2021-03-07 20:00:27.660006    Robert          4.0          3.0   0.0  3.0       0.0     0.0        0.0     100.0            0.0          0.0               3.0\n4   5           Sippen-Holzbrettchen erstellen  <p>Ihr k&ouml;nnt blanke Holzbrettchen g&uuml;...            2                    3                     1                                               None 2021-03-07 20:00:27.660006    Robert          5.0          2.0   0.0  2.0       0.0     0.0        0.0     100.0            0.0          0.0               3.0\n5   6                      Blattbuch erstellen  <p>Ihr sollt ein Blattbuch erstellen.</p>\\n<p>...            1                    3                     1  https://api.xrdcx.de/media/images/15f62406-86a... 2021-03-07 20:00:27.660006    Robert          6.0          2.0   0.0  1.0       1.0     0.0        0.0      50.0           50.0          0.0               4.0",
      "text/html": "<div>\n<style scoped>\n    .dataframe tbody tr th:only-of-type {\n        vertical-align: middle;\n    }\n\n    .dataframe tbody tr th {\n        vertical-align: top;\n    }\n\n    .dataframe thead th {\n        text-align: right;\n    }\n</style>\n<table border=\"1\" class=\"dataframe\">\n  <thead>\n    <tr style=\"text-align: right;\">\n      <th></th>\n      <th>id</th>\n      <th>title</th>\n      <th>description</th>\n      <th>costsRating</th>\n      <th>executionTimeRating</th>\n      <th>isPrepairationNeeded</th>\n      <th>imageLink</th>\n      <th>created_at</th>\n      <th>createdBy</th>\n      <th>event_id_id</th>\n      <th>Bewertungen</th>\n      <th>doof</th>\n      <th>gut</th>\n      <th>sehr_gut</th>\n      <th>unklar</th>\n      <th>doof_rate</th>\n      <th>gut_rate</th>\n      <th>sehr_gut_rate</th>\n      <th>unklar_rate</th>\n      <th>calc_label_score</th>\n    </tr>\n  </thead>\n  <tbody>\n    <tr>\n      <th>1</th>\n      <td>2</td>\n      <td>Bist du Bündisch oder Scoutistisch?</td>\n      <td>&lt;p&gt;Ihr k&amp;ouml;nnt verschiedene Situationen aus...</td>\n      <td>0</td>\n      <td>1</td>\n      <td>0</td>\n      <td>https://api.xrdcx.de/media/images/3a63be00-7f8...</td>\n      <td>2021-03-07 20:00:27.660006</td>\n      <td>Robert</td>\n      <td>2.0</td>\n      <td>2.0</td>\n      <td>0.0</td>\n      <td>2.0</td>\n      <td>0.0</td>\n      <td>0.0</td>\n      <td>0.0</td>\n      <td>100.0</td>\n      <td>0.0</td>\n      <td>0.0</td>\n      <td>3.0</td>\n    </tr>\n    <tr>\n      <th>2</th>\n      <td>3</td>\n      <td>Behelfstrage aus Naturmaterialien bauen</td>\n      <td>&lt;p&gt;Ihr k&amp;ouml;nnt in den Wald gehen und dort a...</td>\n      <td>0</td>\n      <td>3</td>\n      <td>0</td>\n      <td>None</td>\n      <td>2021-03-07 20:00:27.660006</td>\n      <td>Robert</td>\n      <td>3.0</td>\n      <td>2.0</td>\n      <td>0.0</td>\n      <td>2.0</td>\n      <td>0.0</td>\n      <td>0.0</td>\n      <td>0.0</td>\n      <td>100.0</td>\n      <td>0.0</td>\n      <td>0.0</td>\n      <td>3.0</td>\n    </tr>\n    <tr>\n      <th>3</th>\n      <td>4</td>\n      <td>Gepäckteile besprechen und wiegen</td>\n      <td>&lt;p&gt;Ihr kommt mit einem gepackten Rucksack zum ...</td>\n      <td>0</td>\n      <td>3</td>\n      <td>1</td>\n      <td>None</td>\n      <td>2021-03-07 20:00:27.660006</td>\n      <td>Robert</td>\n      <td>4.0</td>\n      <td>3.0</td>\n      <td>0.0</td>\n      <td>3.0</td>\n      <td>0.0</td>\n      <td>0.0</td>\n      <td>0.0</td>\n      <td>100.0</td>\n      <td>0.0</td>\n      <td>0.0</td>\n      <td>3.0</td>\n    </tr>\n    <tr>\n      <th>4</th>\n      <td>5</td>\n      <td>Sippen-Holzbrettchen erstellen</td>\n      <td>&lt;p&gt;Ihr k&amp;ouml;nnt blanke Holzbrettchen g&amp;uuml;...</td>\n      <td>2</td>\n      <td>3</td>\n      <td>1</td>\n      <td>None</td>\n      <td>2021-03-07 20:00:27.660006</td>\n      <td>Robert</td>\n      <td>5.0</td>\n      <td>2.0</td>\n      <td>0.0</td>\n      <td>2.0</td>\n      <td>0.0</td>\n      <td>0.0</td>\n      <td>0.0</td>\n      <td>100.0</td>\n      <td>0.0</td>\n      <td>0.0</td>\n      <td>3.0</td>\n    </tr>\n    <tr>\n      <th>5</th>\n      <td>6</td>\n      <td>Blattbuch erstellen</td>\n      <td>&lt;p&gt;Ihr sollt ein Blattbuch erstellen.&lt;/p&gt;\\n&lt;p&gt;...</td>\n      <td>1</td>\n      <td>3</td>\n      <td>1</td>\n      <td>https://api.xrdcx.de/media/images/15f62406-86a...</td>\n      <td>2021-03-07 20:00:27.660006</td>\n      <td>Robert</td>\n      <td>6.0</td>\n      <td>2.0</td>\n      <td>0.0</td>\n      <td>1.0</td>\n      <td>1.0</td>\n      <td>0.0</td>\n      <td>0.0</td>\n      <td>50.0</td>\n      <td>50.0</td>\n      <td>0.0</td>\n      <td>4.0</td>\n    </tr>\n  </tbody>\n</table>\n</div>"
     },
     "metadata": {},
     "execution_count": 105
    }
   ],
   "source": [
    "df_label.nlargest(5, 'unklar_rate')"
   ]
  },
  {
   "cell_type": "code",
   "execution_count": 106,
   "metadata": {
    "collapsed": false,
    "scrolled": true
   },
   "outputs": [
    {
     "output_type": "execute_result",
     "data": {
      "text/plain": "    id                                    title                                        description  costsRating  executionTimeRating  isPrepairationNeeded                                          imageLink                 created_at createdBy  event_id_id  Bewertungen  doof  gut  sehr_gut  unklar  doof_rate  gut_rate  sehr_gut_rate  unklar_rate  calc_label_score\n1    2      Bist du Bündisch oder Scoutistisch?  <p>Ihr k&ouml;nnt verschiedene Situationen aus...            0                    1                     0  https://api.xrdcx.de/media/images/3a63be00-7f8... 2021-03-07 20:00:27.660006    Robert          2.0          2.0   0.0  2.0       0.0     0.0        0.0     100.0            0.0          0.0               3.0\n2    3  Behelfstrage aus Naturmaterialien bauen  <p>Ihr k&ouml;nnt in den Wald gehen und dort a...            0                    3                     0                                               None 2021-03-07 20:00:27.660006    Robert          3.0          2.0   0.0  2.0       0.0     0.0        0.0     100.0            0.0          0.0               3.0\n3    4        Gepäckteile besprechen und wiegen  <p>Ihr kommt mit einem gepackten Rucksack zum ...            0                    3                     1                                               None 2021-03-07 20:00:27.660006    Robert          4.0          3.0   0.0  3.0       0.0     0.0        0.0     100.0            0.0          0.0               3.0\n4    5           Sippen-Holzbrettchen erstellen  <p>Ihr k&ouml;nnt blanke Holzbrettchen g&uuml;...            2                    3                     1                                               None 2021-03-07 20:00:27.660006    Robert          5.0          2.0   0.0  2.0       0.0     0.0        0.0     100.0            0.0          0.0               3.0\n12  38     Pflanzen/Tiere im Gewässer bestimmen  <p>Ihr k&ouml;nnt einen naturnahen Fluss, Bach...            1                    3                     1                                               None 2021-03-07 20:00:27.660006    Madita         38.0          3.0   0.0  3.0       0.0     0.0        0.0     100.0            0.0          0.0               3.0",
      "text/html": "<div>\n<style scoped>\n    .dataframe tbody tr th:only-of-type {\n        vertical-align: middle;\n    }\n\n    .dataframe tbody tr th {\n        vertical-align: top;\n    }\n\n    .dataframe thead th {\n        text-align: right;\n    }\n</style>\n<table border=\"1\" class=\"dataframe\">\n  <thead>\n    <tr style=\"text-align: right;\">\n      <th></th>\n      <th>id</th>\n      <th>title</th>\n      <th>description</th>\n      <th>costsRating</th>\n      <th>executionTimeRating</th>\n      <th>isPrepairationNeeded</th>\n      <th>imageLink</th>\n      <th>created_at</th>\n      <th>createdBy</th>\n      <th>event_id_id</th>\n      <th>Bewertungen</th>\n      <th>doof</th>\n      <th>gut</th>\n      <th>sehr_gut</th>\n      <th>unklar</th>\n      <th>doof_rate</th>\n      <th>gut_rate</th>\n      <th>sehr_gut_rate</th>\n      <th>unklar_rate</th>\n      <th>calc_label_score</th>\n    </tr>\n  </thead>\n  <tbody>\n    <tr>\n      <th>1</th>\n      <td>2</td>\n      <td>Bist du Bündisch oder Scoutistisch?</td>\n      <td>&lt;p&gt;Ihr k&amp;ouml;nnt verschiedene Situationen aus...</td>\n      <td>0</td>\n      <td>1</td>\n      <td>0</td>\n      <td>https://api.xrdcx.de/media/images/3a63be00-7f8...</td>\n      <td>2021-03-07 20:00:27.660006</td>\n      <td>Robert</td>\n      <td>2.0</td>\n      <td>2.0</td>\n      <td>0.0</td>\n      <td>2.0</td>\n      <td>0.0</td>\n      <td>0.0</td>\n      <td>0.0</td>\n      <td>100.0</td>\n      <td>0.0</td>\n      <td>0.0</td>\n      <td>3.0</td>\n    </tr>\n    <tr>\n      <th>2</th>\n      <td>3</td>\n      <td>Behelfstrage aus Naturmaterialien bauen</td>\n      <td>&lt;p&gt;Ihr k&amp;ouml;nnt in den Wald gehen und dort a...</td>\n      <td>0</td>\n      <td>3</td>\n      <td>0</td>\n      <td>None</td>\n      <td>2021-03-07 20:00:27.660006</td>\n      <td>Robert</td>\n      <td>3.0</td>\n      <td>2.0</td>\n      <td>0.0</td>\n      <td>2.0</td>\n      <td>0.0</td>\n      <td>0.0</td>\n      <td>0.0</td>\n      <td>100.0</td>\n      <td>0.0</td>\n      <td>0.0</td>\n      <td>3.0</td>\n    </tr>\n    <tr>\n      <th>3</th>\n      <td>4</td>\n      <td>Gepäckteile besprechen und wiegen</td>\n      <td>&lt;p&gt;Ihr kommt mit einem gepackten Rucksack zum ...</td>\n      <td>0</td>\n      <td>3</td>\n      <td>1</td>\n      <td>None</td>\n      <td>2021-03-07 20:00:27.660006</td>\n      <td>Robert</td>\n      <td>4.0</td>\n      <td>3.0</td>\n      <td>0.0</td>\n      <td>3.0</td>\n      <td>0.0</td>\n      <td>0.0</td>\n      <td>0.0</td>\n      <td>100.0</td>\n      <td>0.0</td>\n      <td>0.0</td>\n      <td>3.0</td>\n    </tr>\n    <tr>\n      <th>4</th>\n      <td>5</td>\n      <td>Sippen-Holzbrettchen erstellen</td>\n      <td>&lt;p&gt;Ihr k&amp;ouml;nnt blanke Holzbrettchen g&amp;uuml;...</td>\n      <td>2</td>\n      <td>3</td>\n      <td>1</td>\n      <td>None</td>\n      <td>2021-03-07 20:00:27.660006</td>\n      <td>Robert</td>\n      <td>5.0</td>\n      <td>2.0</td>\n      <td>0.0</td>\n      <td>2.0</td>\n      <td>0.0</td>\n      <td>0.0</td>\n      <td>0.0</td>\n      <td>100.0</td>\n      <td>0.0</td>\n      <td>0.0</td>\n      <td>3.0</td>\n    </tr>\n    <tr>\n      <th>12</th>\n      <td>38</td>\n      <td>Pflanzen/Tiere im Gewässer bestimmen</td>\n      <td>&lt;p&gt;Ihr k&amp;ouml;nnt einen naturnahen Fluss, Bach...</td>\n      <td>1</td>\n      <td>3</td>\n      <td>1</td>\n      <td>None</td>\n      <td>2021-03-07 20:00:27.660006</td>\n      <td>Madita</td>\n      <td>38.0</td>\n      <td>3.0</td>\n      <td>0.0</td>\n      <td>3.0</td>\n      <td>0.0</td>\n      <td>0.0</td>\n      <td>0.0</td>\n      <td>100.0</td>\n      <td>0.0</td>\n      <td>0.0</td>\n      <td>3.0</td>\n    </tr>\n  </tbody>\n</table>\n</div>"
     },
     "metadata": {},
     "execution_count": 106
    }
   ],
   "source": [
    "df_label.nlargest(5, 'gut_rate')"
   ]
  },
  {
   "cell_type": "code",
   "execution_count": 107,
   "metadata": {
    "collapsed": false,
    "scrolled": true
   },
   "outputs": [
    {
     "output_type": "execute_result",
     "data": {
      "text/plain": "      id                                   title                                        description  costsRating  executionTimeRating  isPrepairationNeeded                                          imageLink                 created_at createdBy  event_id_id  Bewertungen  doof  gut  sehr_gut  unklar  doof_rate  gut_rate  sehr_gut_rate  unklar_rate  calc_label_score\n24    59                 Fensterbank-Kräuterbeet  <p><img style=\"margin-left: 20px; margin-right...            2                    2                     1                                               None 2021-03-07 20:00:27.660006  Dorothea         59.0          2.0   0.0  0.0       2.0     0.0        0.0      0.00         100.00          0.0              5.00\n101  165                        Digitale Karten?  <p>Am Heimabend k&ouml;nnt ihr verschiedene Ka...            1                    3                     1  https://api.xrdcx.de/media/images/44784fa8-800... 2021-03-07 20:00:27.660006    Robert        165.0          2.0   0.0  0.0       2.0     0.0        0.0      0.00         100.00          0.0              5.00\n95   158                   Pfeil und Bogen bauen  <p>Am Heimabend k&ouml;nnt ihr einfach selber ...            1                    3                     1  https://api.xrdcx.de/media/images/eb6911f4-869... 2021-03-07 20:00:27.660006    Robert        158.0          3.0   0.0  1.0       2.0     0.0        0.0     33.33          66.67          0.0              4.33\n120  201                            Lichtmalerei  <p style=\"text-align: left;\">Male mit einer Ta...            0                    1                     1  https://api.xrdcx.de/media/images/f4814142-7f8... 2021-03-07 20:00:27.660006     Leyan        201.0          3.0   0.0  1.0       2.0     0.0        0.0     33.33          66.67          0.0              4.33\n96   159  [Nur für Rover] Feuerfestigkeit testen  <table style=\"border-collapse: collapse; width...            2                    2                     1  https://api.xrdcx.de/media/images/23ed2ccc-7f8... 2021-03-07 20:00:27.660006    Daniel        159.0          5.0   0.0  2.0       3.0     0.0        0.0     40.00          60.00          0.0              4.20",
      "text/html": "<div>\n<style scoped>\n    .dataframe tbody tr th:only-of-type {\n        vertical-align: middle;\n    }\n\n    .dataframe tbody tr th {\n        vertical-align: top;\n    }\n\n    .dataframe thead th {\n        text-align: right;\n    }\n</style>\n<table border=\"1\" class=\"dataframe\">\n  <thead>\n    <tr style=\"text-align: right;\">\n      <th></th>\n      <th>id</th>\n      <th>title</th>\n      <th>description</th>\n      <th>costsRating</th>\n      <th>executionTimeRating</th>\n      <th>isPrepairationNeeded</th>\n      <th>imageLink</th>\n      <th>created_at</th>\n      <th>createdBy</th>\n      <th>event_id_id</th>\n      <th>Bewertungen</th>\n      <th>doof</th>\n      <th>gut</th>\n      <th>sehr_gut</th>\n      <th>unklar</th>\n      <th>doof_rate</th>\n      <th>gut_rate</th>\n      <th>sehr_gut_rate</th>\n      <th>unklar_rate</th>\n      <th>calc_label_score</th>\n    </tr>\n  </thead>\n  <tbody>\n    <tr>\n      <th>24</th>\n      <td>59</td>\n      <td>Fensterbank-Kräuterbeet</td>\n      <td>&lt;p&gt;&lt;img style=\"margin-left: 20px; margin-right...</td>\n      <td>2</td>\n      <td>2</td>\n      <td>1</td>\n      <td>None</td>\n      <td>2021-03-07 20:00:27.660006</td>\n      <td>Dorothea</td>\n      <td>59.0</td>\n      <td>2.0</td>\n      <td>0.0</td>\n      <td>0.0</td>\n      <td>2.0</td>\n      <td>0.0</td>\n      <td>0.0</td>\n      <td>0.00</td>\n      <td>100.00</td>\n      <td>0.0</td>\n      <td>5.00</td>\n    </tr>\n    <tr>\n      <th>101</th>\n      <td>165</td>\n      <td>Digitale Karten?</td>\n      <td>&lt;p&gt;Am Heimabend k&amp;ouml;nnt ihr verschiedene Ka...</td>\n      <td>1</td>\n      <td>3</td>\n      <td>1</td>\n      <td>https://api.xrdcx.de/media/images/44784fa8-800...</td>\n      <td>2021-03-07 20:00:27.660006</td>\n      <td>Robert</td>\n      <td>165.0</td>\n      <td>2.0</td>\n      <td>0.0</td>\n      <td>0.0</td>\n      <td>2.0</td>\n      <td>0.0</td>\n      <td>0.0</td>\n      <td>0.00</td>\n      <td>100.00</td>\n      <td>0.0</td>\n      <td>5.00</td>\n    </tr>\n    <tr>\n      <th>95</th>\n      <td>158</td>\n      <td>Pfeil und Bogen bauen</td>\n      <td>&lt;p&gt;Am Heimabend k&amp;ouml;nnt ihr einfach selber ...</td>\n      <td>1</td>\n      <td>3</td>\n      <td>1</td>\n      <td>https://api.xrdcx.de/media/images/eb6911f4-869...</td>\n      <td>2021-03-07 20:00:27.660006</td>\n      <td>Robert</td>\n      <td>158.0</td>\n      <td>3.0</td>\n      <td>0.0</td>\n      <td>1.0</td>\n      <td>2.0</td>\n      <td>0.0</td>\n      <td>0.0</td>\n      <td>33.33</td>\n      <td>66.67</td>\n      <td>0.0</td>\n      <td>4.33</td>\n    </tr>\n    <tr>\n      <th>120</th>\n      <td>201</td>\n      <td>Lichtmalerei</td>\n      <td>&lt;p style=\"text-align: left;\"&gt;Male mit einer Ta...</td>\n      <td>0</td>\n      <td>1</td>\n      <td>1</td>\n      <td>https://api.xrdcx.de/media/images/f4814142-7f8...</td>\n      <td>2021-03-07 20:00:27.660006</td>\n      <td>Leyan</td>\n      <td>201.0</td>\n      <td>3.0</td>\n      <td>0.0</td>\n      <td>1.0</td>\n      <td>2.0</td>\n      <td>0.0</td>\n      <td>0.0</td>\n      <td>33.33</td>\n      <td>66.67</td>\n      <td>0.0</td>\n      <td>4.33</td>\n    </tr>\n    <tr>\n      <th>96</th>\n      <td>159</td>\n      <td>[Nur für Rover] Feuerfestigkeit testen</td>\n      <td>&lt;table style=\"border-collapse: collapse; width...</td>\n      <td>2</td>\n      <td>2</td>\n      <td>1</td>\n      <td>https://api.xrdcx.de/media/images/23ed2ccc-7f8...</td>\n      <td>2021-03-07 20:00:27.660006</td>\n      <td>Daniel</td>\n      <td>159.0</td>\n      <td>5.0</td>\n      <td>0.0</td>\n      <td>2.0</td>\n      <td>3.0</td>\n      <td>0.0</td>\n      <td>0.0</td>\n      <td>40.00</td>\n      <td>60.00</td>\n      <td>0.0</td>\n      <td>4.20</td>\n    </tr>\n  </tbody>\n</table>\n</div>"
     },
     "metadata": {},
     "execution_count": 107
    }
   ],
   "source": [
    "df_label.nlargest(5, 'sehr_gut_rate')"
   ]
  },
  {
   "cell_type": "code",
   "execution_count": 108,
   "metadata": {
    "collapsed": false,
    "scrolled": true
   },
   "outputs": [
    {
     "output_type": "execute_result",
     "data": {
      "text/plain": "     id                         title                                        description  costsRating  executionTimeRating  isPrepairationNeeded                                          imageLink                 created_at createdBy  event_id_id  Bewertungen  doof  gut  sehr_gut  unklar  doof_rate  gut_rate  sehr_gut_rate  unklar_rate  calc_label_score\n14   44             Anschleichen üben  <p>Ihr k&ouml;nnt eure F&auml;higkeiten im Ans...            0                    1                     0  https://api.xrdcx.de/media/images/c9bcb2b2-86a... 2021-03-07 20:00:27.660006    Robert         44.0          2.0   2.0  0.0       0.0     0.0     100.00      0.00           0.00          0.0              1.00\n30   66       Milchkarton-Portmonnaie  <p>Ihr habt noch kein Portmonnaie f&uuml;r eur...            0                    2                     1                                               None 2021-03-07 20:00:27.660006  Dorothea         66.0          4.0   3.0  1.0       0.0     0.0      75.00     25.00           0.00          0.0              1.50\n33   70   Jonglierbälle selber machen  <p>Wenn man nicht gerade mit &Auml;pfeln jongl...            1                    1                     1                                               None 2021-03-07 20:00:27.660006  Dorothea         70.0          3.0   2.0  0.0       1.0     0.0      66.67      0.00          33.33          0.0              2.33\n69  129  Blüten Tafel im Bilderrahmen  <p style=\"text-align: left;\">Erstellt eine <st...            2                    0                     1  https://api.xrdcx.de/media/images/4958bf0c-86a... 2021-03-07 20:00:27.660006     Alina        129.0          3.0   2.0  1.0       0.0     0.0      66.67     33.33           0.00          0.0              1.67\n99  163       Handcreme selber machen  <p>F&uuml;r deine selbst gemachte Handcreme br...            3                    2                     1                                               None 2021-03-07 20:00:27.660006    Nadine        163.0          3.0   2.0  1.0       0.0     0.0      66.67     33.33           0.00          0.0              1.67",
      "text/html": "<div>\n<style scoped>\n    .dataframe tbody tr th:only-of-type {\n        vertical-align: middle;\n    }\n\n    .dataframe tbody tr th {\n        vertical-align: top;\n    }\n\n    .dataframe thead th {\n        text-align: right;\n    }\n</style>\n<table border=\"1\" class=\"dataframe\">\n  <thead>\n    <tr style=\"text-align: right;\">\n      <th></th>\n      <th>id</th>\n      <th>title</th>\n      <th>description</th>\n      <th>costsRating</th>\n      <th>executionTimeRating</th>\n      <th>isPrepairationNeeded</th>\n      <th>imageLink</th>\n      <th>created_at</th>\n      <th>createdBy</th>\n      <th>event_id_id</th>\n      <th>Bewertungen</th>\n      <th>doof</th>\n      <th>gut</th>\n      <th>sehr_gut</th>\n      <th>unklar</th>\n      <th>doof_rate</th>\n      <th>gut_rate</th>\n      <th>sehr_gut_rate</th>\n      <th>unklar_rate</th>\n      <th>calc_label_score</th>\n    </tr>\n  </thead>\n  <tbody>\n    <tr>\n      <th>14</th>\n      <td>44</td>\n      <td>Anschleichen üben</td>\n      <td>&lt;p&gt;Ihr k&amp;ouml;nnt eure F&amp;auml;higkeiten im Ans...</td>\n      <td>0</td>\n      <td>1</td>\n      <td>0</td>\n      <td>https://api.xrdcx.de/media/images/c9bcb2b2-86a...</td>\n      <td>2021-03-07 20:00:27.660006</td>\n      <td>Robert</td>\n      <td>44.0</td>\n      <td>2.0</td>\n      <td>2.0</td>\n      <td>0.0</td>\n      <td>0.0</td>\n      <td>0.0</td>\n      <td>100.00</td>\n      <td>0.00</td>\n      <td>0.00</td>\n      <td>0.0</td>\n      <td>1.00</td>\n    </tr>\n    <tr>\n      <th>30</th>\n      <td>66</td>\n      <td>Milchkarton-Portmonnaie</td>\n      <td>&lt;p&gt;Ihr habt noch kein Portmonnaie f&amp;uuml;r eur...</td>\n      <td>0</td>\n      <td>2</td>\n      <td>1</td>\n      <td>None</td>\n      <td>2021-03-07 20:00:27.660006</td>\n      <td>Dorothea</td>\n      <td>66.0</td>\n      <td>4.0</td>\n      <td>3.0</td>\n      <td>1.0</td>\n      <td>0.0</td>\n      <td>0.0</td>\n      <td>75.00</td>\n      <td>25.00</td>\n      <td>0.00</td>\n      <td>0.0</td>\n      <td>1.50</td>\n    </tr>\n    <tr>\n      <th>33</th>\n      <td>70</td>\n      <td>Jonglierbälle selber machen</td>\n      <td>&lt;p&gt;Wenn man nicht gerade mit &amp;Auml;pfeln jongl...</td>\n      <td>1</td>\n      <td>1</td>\n      <td>1</td>\n      <td>None</td>\n      <td>2021-03-07 20:00:27.660006</td>\n      <td>Dorothea</td>\n      <td>70.0</td>\n      <td>3.0</td>\n      <td>2.0</td>\n      <td>0.0</td>\n      <td>1.0</td>\n      <td>0.0</td>\n      <td>66.67</td>\n      <td>0.00</td>\n      <td>33.33</td>\n      <td>0.0</td>\n      <td>2.33</td>\n    </tr>\n    <tr>\n      <th>69</th>\n      <td>129</td>\n      <td>Blüten Tafel im Bilderrahmen</td>\n      <td>&lt;p style=\"text-align: left;\"&gt;Erstellt eine &lt;st...</td>\n      <td>2</td>\n      <td>0</td>\n      <td>1</td>\n      <td>https://api.xrdcx.de/media/images/4958bf0c-86a...</td>\n      <td>2021-03-07 20:00:27.660006</td>\n      <td>Alina</td>\n      <td>129.0</td>\n      <td>3.0</td>\n      <td>2.0</td>\n      <td>1.0</td>\n      <td>0.0</td>\n      <td>0.0</td>\n      <td>66.67</td>\n      <td>33.33</td>\n      <td>0.00</td>\n      <td>0.0</td>\n      <td>1.67</td>\n    </tr>\n    <tr>\n      <th>99</th>\n      <td>163</td>\n      <td>Handcreme selber machen</td>\n      <td>&lt;p&gt;F&amp;uuml;r deine selbst gemachte Handcreme br...</td>\n      <td>3</td>\n      <td>2</td>\n      <td>1</td>\n      <td>None</td>\n      <td>2021-03-07 20:00:27.660006</td>\n      <td>Nadine</td>\n      <td>163.0</td>\n      <td>3.0</td>\n      <td>2.0</td>\n      <td>1.0</td>\n      <td>0.0</td>\n      <td>0.0</td>\n      <td>66.67</td>\n      <td>33.33</td>\n      <td>0.00</td>\n      <td>0.0</td>\n      <td>1.67</td>\n    </tr>\n  </tbody>\n</table>\n</div>"
     },
     "metadata": {},
     "execution_count": 108
    }
   ],
   "source": [
    "df_label.nlargest(5, 'doof_rate')"
   ]
  }
 ],
 "metadata": {
  "kernelspec": {
   "display_name": "Python 3",
   "language": "python",
   "metadata": {
    "cocalc": {
     "description": "Python 3 programming language",
     "priority": 100,
     "url": "https://www.python.org/"
    }
   },
   "name": "python3",
   "resource_dir": "/ext/jupyter/kernels/python3"
  },
  "language_info": {
   "codemirror_mode": {
    "name": "ipython",
    "version": 3
   },
   "file_extension": ".py",
   "mimetype": "text/x-python",
   "name": "python",
   "nbconvert_exporter": "python",
   "pygments_lexer": "ipython3",
   "version": "3.8.3-final"
  }
 },
 "nbformat": 4,
 "nbformat_minor": 4
}