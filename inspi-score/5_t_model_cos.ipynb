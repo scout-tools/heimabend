{
 "metadata": {
  "language_info": {
   "codemirror_mode": {
    "name": "ipython",
    "version": 3
   },
   "file_extension": ".py",
   "mimetype": "text/x-python",
   "name": "python",
   "nbconvert_exporter": "python",
   "pygments_lexer": "ipython3",
   "version": "3.8.3-final"
  },
  "orig_nbformat": 2,
  "kernelspec": {
   "name": "python3",
   "display_name": "Python 3"
  }
 },
 "nbformat": 4,
 "nbformat_minor": 2,
 "cells": [
  {
   "cell_type": "code",
   "execution_count": 84,
   "metadata": {},
   "outputs": [],
   "source": [
    "import pandas as pd\n",
    "from scipy.spatial import distance\n",
    "from sqlalchemy import create_engine\n",
    "\n",
    "pd.set_option('display.max_rows', 500)\n",
    "pd.set_option('display.max_columns', 500)\n",
    "pd.set_option('display.width', 1000)"
   ]
  },
  {
   "cell_type": "code",
   "execution_count": 85,
   "metadata": {},
   "outputs": [],
   "source": [
    "import os\n",
    "\n",
    "import pymysql\n",
    "import pandas as pd\n",
    "\n",
    "from sqlalchemy import create_engine\n",
    "from dotenv import load_dotenv\n"
   ]
  },
  {
   "cell_type": "code",
   "execution_count": 86,
   "metadata": {},
   "outputs": [
    {
     "output_type": "execute_result",
     "data": {
      "text/plain": "True"
     },
     "metadata": {},
     "execution_count": 86
    }
   ],
   "source": [
    "# setup env\n",
    "load_dotenv()"
   ]
  },
  {
   "cell_type": "code",
   "execution_count": 87,
   "metadata": {},
   "outputs": [
    {
     "output_type": "execute_result",
     "data": {
      "text/plain": "(134, 80)"
     },
     "metadata": {},
     "execution_count": 87
    }
   ],
   "source": [
    "df_feature_vector = pd.read_parquet('data/feature_vector_num.parquet')\n",
    "df_feature_vector_with_text = pd.read_parquet('data/feature_vector.parquet')\n",
    "df_tag = pd.read_parquet('data/tag.parquet')\n",
    "df_feature_vector_with_text.shape"
   ]
  },
  {
   "cell_type": "code",
   "execution_count": 88,
   "metadata": {},
   "outputs": [],
   "source": [
    "# setup db\n",
    "user = os.getenv('RDS_USERNAME')\n",
    "password = os.getenv('RDS_PASSWORD')\n",
    "host = os.getenv('RDS_HOSTNAME')\n",
    "db = os.getenv('RDS_DB_NAME')\n",
    "port = os.getenv('RDS_PORT')\n",
    "\n",
    "db_string = \"postgresql://{}:{}@{}:{}/{}\".format(user,password,host,port,db)\n",
    "sqlEngine = create_engine(db_string)"
   ]
  },
  {
   "cell_type": "code",
   "execution_count": 89,
   "metadata": {},
   "outputs": [],
   "source": [
    "df_tag = pd.read_parquet('data/tag.parquet')\n",
    "df_tag = df_tag[['name', 'category_id']]\n",
    "df_tag['weight'] = df_tag['category_id'].apply(lambda x: 3 if x == 9 else 0.3 if x == 1 else 1)"
   ]
  },
  {
   "cell_type": "code",
   "execution_count": 90,
   "metadata": {},
   "outputs": [],
   "source": [
    "df_all_features = pd.DataFrame(df_feature_vector.columns.to_list(), columns=['name'])"
   ]
  },
  {
   "cell_type": "code",
   "execution_count": 91,
   "metadata": {},
   "outputs": [],
   "source": [
    "df_merge_tag_features = pd.merge(df_tag, df_all_features, on='name')\n",
    "\n",
    "allFeatures = df_feature_vector.columns.to_list()\n",
    "df_name = df_merge_tag_features['name']\n",
    "\n",
    "for i in df_name.to_numpy():\n",
    "    allFeatures.remove(i)\n",
    "\n",
    "for i in allFeatures:\n",
    "    df_merge_tag_features = df_merge_tag_features.append({'name': i, 'weight': 0.3}, ignore_index=True)\n",
    "\n",
    "array = df_feature_vector.columns.to_list()\n",
    "array.remove('id')\n",
    "array.remove('Mit Abstand')\n",
    "array.remove('Videokonferenz')\n",
    "array.remove('Pfadfinder')\n",
    "array.remove('Rover')\n",
    "\n",
    "weight = df_merge_tag_features['weight'].to_numpy()\n",
    "array_labels = df_merge_tag_features['name'].to_numpy()"
   ]
  },
  {
   "cell_type": "code",
   "execution_count": 80,
   "metadata": {},
   "outputs": [
    {
     "output_type": "execute_result",
     "data": {
      "text/plain": "(134, 61)"
     },
     "metadata": {},
     "execution_count": 80
    }
   ],
   "source": []
  },
  {
   "cell_type": "code",
   "execution_count": 95,
   "metadata": {
    "tags": [
     "outputPrepend"
    ]
   },
   "outputs": [
    {
     "output_type": "stream",
     "name": "stdout",
     "text": "pcycling - Reisespiele basteln             220       194\n102  0.000044                     Kerzendrehen             173       194\n113  0.000046       Wölflingsregeln besprechen             185       194\nheimabend_index\n117\nheimabend_index\n        score                              title  event_score_id  event_id\n133  0.000032                    Pappteller-Golf             223       198\n132  0.000033                    Die Verwandlung             222       198\n102  0.000034                       Kerzendrehen             173       198\n128  0.000035           Spiel: Der Kaiser mag...             218       198\n120  0.000037                       Lichtmalerei             201       198\n116  0.000039  Fahrrad-Geschicklichkeits-Parkour             194       198\n119  0.000041     Pfadfinder*innen ohne Plastik?             200       198\n97   0.000042               Kerzenwachs recyceln             161       198\n124  0.000045                        Traumkapsel             205       198\n122  0.000047         Gruppenstunde als Talkshow             203       198\n126  0.000047                  Ich male ein Bild             216       198\n95   0.000047              Pfeil und Bogen bauen             158       198\n129  0.000047                         Naturbingo             219       198\n113  0.000048         Wölflingsregeln besprechen             185       198\nheimabend_index\n118\nheimabend_index\n        score                            title  event_score_id  event_id\n121  0.000025                Finde nach Hause!             202       199\n130  0.000026  Upcycling - Reisespiele basteln             220       199\n101  0.000032                 Digitale Karten?             165       199\n102  0.000046                     Kerzendrehen             173       199\n115  0.000047             Morsen online lernen             187       199\n120  0.000048                     Lichtmalerei             201       199\n124  0.000052                      Traumkapsel             205       199\n71   0.000052       Behelfs-Schutzmasken nähen             131       199\n110  0.000052             Hummus selbstgemacht             182       199\n128  0.000053         Spiel: Der Kaiser mag...             218       199\n97   0.000054             Kerzenwachs recyceln             161       199\n126  0.000056                Ich male ein Bild             216       199\n133  0.000057                  Pappteller-Golf             223       199\n107  0.000057        Schnitzeljagd mit Abstand             179       199\nheimabend_index\n119\nheimabend_index\n        score                              title  event_score_id  event_id\n129  0.000021                         Naturbingo             219       200\n127  0.000027                Naturbilder basteln             217       200\n131  0.000029                    Wasserdetektive             221       200\n132  0.000029                    Die Verwandlung             222       200\n128  0.000032           Spiel: Der Kaiser mag...             218       200\n125  0.000033    Unser Lagerplatz in der Zukunft             206       200\n120  0.000034                       Lichtmalerei             201       200\n133  0.000034                    Pappteller-Golf             223       200\n116  0.000036  Fahrrad-Geschicklichkeits-Parkour             194       200\n117  0.000041           Eigene Löffel schnitzen!             198       200\n102  0.000042                       Kerzendrehen             173       200\n126  0.000042                  Ich male ein Bild             216       200\n130  0.000043    Upcycling - Reisespiele basteln             220       200\n83   0.000044            Rucksack richtig packen             145       200\nheimabend_index\n120\nheimabend_index\n        score                              title  event_score_id  event_id\n132  0.000014                    Die Verwandlung             222       201\n102  0.000015                       Kerzendrehen             173       201\n128  0.000019           Spiel: Der Kaiser mag...             218       201\n133  0.000019                    Pappteller-Golf             223       201\n126  0.000020                  Ich male ein Bild             216       201\n124  0.000025                        Traumkapsel             205       201\n100  0.000025                         Sockengolf             164       201\n98   0.000027                  Luftballonstaffel             162       201\n116  0.000027  Fahrrad-Geschicklichkeits-Parkour             194       201\n97   0.000032               Kerzenwachs recyceln             161       201\n130  0.000032    Upcycling - Reisespiele basteln             220       201\n119  0.000034     Pfadfinder*innen ohne Plastik?             200       201\n106  0.000037                    Briefe an Felix             178       201\n117  0.000037           Eigene Löffel schnitzen!             198       201\nheimabend_index\n121\nheimabend_index\n        score                              title  event_score_id  event_id\n118  0.000025              Pfadfinder-Planzeiger             199       202\n130  0.000033    Upcycling - Reisespiele basteln             220       202\n128  0.000036           Spiel: Der Kaiser mag...             218       202\n107  0.000042          Schnitzeljagd mit Abstand             179       202\n133  0.000042                    Pappteller-Golf             223       202\n101  0.000043                   Digitale Karten?             165       202\n132  0.000047                    Die Verwandlung             222       202\n129  0.000050                         Naturbingo             219       202\n120  0.000052                       Lichtmalerei             201       202\n116  0.000053  Fahrrad-Geschicklichkeits-Parkour             194       202\n131  0.000053                    Wasserdetektive             221       202\n108  0.000053       Online Treffen (gather-town)             180       202\n115  0.000054               Morsen online lernen             187       202\n105  0.000054             Online-Spieleplattform             177       202\nheimabend_index\n122\nheimabend_index\n        score                                   title  event_score_id  event_id\n125  0.000022         Unser Lagerplatz in der Zukunft             206       203\n124  0.000026                             Traumkapsel             205       203\n113  0.000027              Wölflingsregeln besprechen             185       203\n112  0.000033  Welche Pfadfinder-Regel ist unwichtig?             184       203\n128  0.000033                Spiel: Der Kaiser mag...             218       203\n102  0.000036                            Kerzendrehen             173       203\n120  0.000041                            Lichtmalerei             201       203\n132  0.000042                         Die Verwandlung             222       203\n133  0.000043                         Pappteller-Golf             223       203\n98   0.000044                       Luftballonstaffel             162       203\n90   0.000045                Lieblingsbuch vorstellen             152       203\n104  0.000045                          Digitales Tabu             176       203\n126  0.000045                       Ich male ein Bild             216       203\n117  0.000047                Eigene Löffel schnitzen!             198       203\nheimabend_index\n123\nheimabend_index\n        score                                   title  event_score_id  event_id\n119  0.000096          Pfadfinder*innen ohne Plastik?             200       204\n124  0.000097                             Traumkapsel             205       204\n125  0.000099         Unser Lagerplatz in der Zukunft             206       204\n128  0.000100                Spiel: Der Kaiser mag...             218       204\n111  0.000102         Weisheiten diskutieren (Zitate)             183       204\n122  0.000103              Gruppenstunde als Talkshow             203       204\n112  0.000106  Welche Pfadfinder-Regel ist unwichtig?             184       204\n120  0.000106                            Lichtmalerei             201       204\n131  0.000107                         Wasserdetektive             221       204\n88   0.000107            Knoten mit Lakritz-Schnecken             150       204\n86   0.000108              Eigenes Hörspiel aufnehmen             148       204\n102  0.000109                            Kerzendrehen             173       204\n103  0.000110               Sippenvergleich - digital             175       204\n127  0.000110                     Naturbilder basteln             217       204\nheimabend_index\n124\nheimabend_index\n        score                            title  event_score_id  event_id\n102  0.000023                     Kerzendrehen             173       205\n120  0.000025                     Lichtmalerei             201       205\n122  0.000026       Gruppenstunde als Talkshow             203       205\n128  0.000028         Spiel: Der Kaiser mag...             218       205\n126  0.000031                Ich male ein Bild             216       205\n106  0.000032                  Briefe an Felix             178       205\n133  0.000034                  Pappteller-Golf             223       205\n132  0.000035                  Die Verwandlung             222       205\n130  0.000036  Upcycling - Reisespiele basteln             220       205\n104  0.000038                   Digitales Tabu             176       205\n98   0.000038                Luftballonstaffel             162       205\n97   0.000039             Kerzenwachs recyceln             161       205\n90   0.000041         Lieblingsbuch vorstellen             152       205\n100  0.000042                       Sockengolf             164       205\nheimabend_index\n125\nheimabend_index\n        score                                   title  event_score_id  event_id\n122  0.000022              Gruppenstunde als Talkshow             203       206\n119  0.000033          Pfadfinder*innen ohne Plastik?             200       206\n113  0.000043              Wölflingsregeln besprechen             185       206\n124  0.000046                             Traumkapsel             205       206\n127  0.000048                     Naturbilder basteln             217       206\n129  0.000050                              Naturbingo             219       206\n128  0.000050                Spiel: Der Kaiser mag...             218       206\n131  0.000050                         Wasserdetektive             221       206\n132  0.000051                         Die Verwandlung             222       206\n112  0.000051  Welche Pfadfinder-Regel ist unwichtig?             184       206\n133  0.000054                         Pappteller-Golf             223       206\n116  0.000055       Fahrrad-Geschicklichkeits-Parkour             194       206\n120  0.000058                            Lichtmalerei             201       206\n102  0.000059                            Kerzendrehen             173       206\nheimabend_index\n126\nheimabend_index\n        score                            title  event_score_id  event_id\n106  0.000016                  Briefe an Felix             178       216\n100  0.000020                       Sockengolf             164       216\n120  0.000020                     Lichtmalerei             201       216\n128  0.000021         Spiel: Der Kaiser mag...             218       216\n132  0.000025                  Die Verwandlung             222       216\n133  0.000031                  Pappteller-Golf             223       216\n124  0.000031                      Traumkapsel             205       216\n105  0.000031           Online-Spieleplattform             177       216\n115  0.000032             Morsen online lernen             187       216\n102  0.000032                     Kerzendrehen             173       216\n130  0.000034  Upcycling - Reisespiele basteln             220       216\n108  0.000035     Online Treffen (gather-town)             180       216\n111  0.000035  Weisheiten diskutieren (Zitate)             183       216\n90   0.000036         Lieblingsbuch vorstellen             152       216\nheimabend_index\n127\nheimabend_index\n        score                              title  event_score_id  event_id\n129  0.000014                         Naturbingo             219       217\n131  0.000017                    Wasserdetektive             221       217\n132  0.000026                    Die Verwandlung             222       217\n119  0.000027     Pfadfinder*innen ohne Plastik?             200       217\n133  0.000028                    Pappteller-Golf             223       217\n116  0.000031  Fahrrad-Geschicklichkeits-Parkour             194       217\n120  0.000038                       Lichtmalerei             201       217\n128  0.000039           Spiel: Der Kaiser mag...             218       217\n125  0.000048    Unser Lagerplatz in der Zukunft             206       217\n97   0.000048               Kerzenwachs recyceln             161       217\n98   0.000049                  Luftballonstaffel             162       217\n117  0.000049           Eigene Löffel schnitzen!             198       217\n126  0.000050                  Ich male ein Bild             216       217\n124  0.000055                        Traumkapsel             205       217\nheimabend_index\n128\nheimabend_index\n        score                              title  event_score_id  event_id\n133  0.000011                    Pappteller-Golf             223       218\n132  0.000014                    Die Verwandlung             222       218\n120  0.000019                       Lichtmalerei             201       218\n126  0.000021                  Ich male ein Bild             216       218\n113  0.000024         Wölflingsregeln besprechen             185       218\n116  0.000027  Fahrrad-Geschicklichkeits-Parkour             194       218\n130  0.000027    Upcycling - Reisespiele basteln             220       218\n98   0.000028                  Luftballonstaffel             162       218\n83   0.000028            Rucksack richtig packen             145       218\n124  0.000028                        Traumkapsel             205       218\n102  0.000029                       Kerzendrehen             173       218\n103  0.000031          Sippenvergleich - digital             175       218\n104  0.000031                     Digitales Tabu             176       218\n119  0.000032     Pfadfinder*innen ohne Plastik?             200       218\nheimabend_index\n129\nheimabend_index\n        score                              title  event_score_id  event_id\n127  0.000014                Naturbilder basteln             217       219\n119  0.000021     Pfadfinder*innen ohne Plastik?             200       219\n132  0.000026                    Die Verwandlung             222       219\n131  0.000028                    Wasserdetektive             221       219\n133  0.000029                    Pappteller-Golf             223       219\n116  0.000031  Fahrrad-Geschicklichkeits-Parkour             194       219\n120  0.000038                       Lichtmalerei             201       219\n128  0.000038           Spiel: Der Kaiser mag...             218       219\n98   0.000046                  Luftballonstaffel             162       219\n117  0.000047           Eigene Löffel schnitzen!             198       219\n130  0.000048    Upcycling - Reisespiele basteln             220       219\n125  0.000050    Unser Lagerplatz in der Zukunft             206       219\n126  0.000050                  Ich male ein Bild             216       219\n121  0.000050                  Finde nach Hause!             202       219\nheimabend_index\n130\nheimabend_index\n        score                         title  event_score_id  event_id\n118  0.000026         Pfadfinder-Planzeiger             199       220\n128  0.000027      Spiel: Der Kaiser mag...             218       220\n132  0.000031               Die Verwandlung             222       220\n120  0.000032                  Lichtmalerei             201       220\n133  0.000033               Pappteller-Golf             223       220\n110  0.000033          Hummus selbstgemacht             182       220\n121  0.000033             Finde nach Hause!             202       220\n126  0.000034             Ich male ein Bild             216       220\n102  0.000035                  Kerzendrehen             173       220\n105  0.000035        Online-Spieleplattform             177       220\n124  0.000036                   Traumkapsel             205       220\n115  0.000037          Morsen online lernen             187       220\n108  0.000038  Online Treffen (gather-town)             180       220\n71   0.000040    Behelfs-Schutzmasken nähen             131       220\nheimabend_index\n131\nheimabend_index\n        score                              title  event_score_id  event_id\n127  0.000017                Naturbilder basteln             217       221\n129  0.000028                         Naturbingo             219       221\n133  0.000029                    Pappteller-Golf             223       221\n119  0.000029     Pfadfinder*innen ohne Plastik?             200       221\n128  0.000033           Spiel: Der Kaiser mag...             218       221\n132  0.000033                    Die Verwandlung             222       221\n116  0.000039  Fahrrad-Geschicklichkeits-Parkour             194       221\n120  0.000044                       Lichtmalerei             201       221\n113  0.000045         Wölflingsregeln besprechen             185       221\n117  0.000049           Eigene Löffel schnitzen!             198       221\n126  0.000049                  Ich male ein Bild             216       221\n98   0.000050                  Luftballonstaffel             162       221\n125  0.000050    Unser Lagerplatz in der Zukunft             206       221\n121  0.000053                  Finde nach Hause!             202       221\nheimabend_index\n132\nheimabend_index\n        score                              title  event_score_id  event_id\n133  0.000006                    Pappteller-Golf             223       222\n128  0.000014           Spiel: Der Kaiser mag...             218       222\n120  0.000014                       Lichtmalerei             201       222\n116  0.000016  Fahrrad-Geschicklichkeits-Parkour             194       222\n126  0.000025                  Ich male ein Bild             216       222\n127  0.000026                Naturbilder basteln             217       222\n129  0.000026                         Naturbingo             219       222\n119  0.000029     Pfadfinder*innen ohne Plastik?             200       222\n98   0.000031                  Luftballonstaffel             162       222\n130  0.000031    Upcycling - Reisespiele basteln             220       222\n102  0.000033                       Kerzendrehen             173       222\n131  0.000033                    Wasserdetektive             221       222\n117  0.000033           Eigene Löffel schnitzen!             198       222\n100  0.000034                         Sockengolf             164       222\nheimabend_index\n133\nheimabend_index\n        score                              title  event_score_id  event_id\n132  0.000006                    Die Verwandlung             222       223\n128  0.000011           Spiel: Der Kaiser mag...             218       223\n120  0.000019                       Lichtmalerei             201       223\n116  0.000022  Fahrrad-Geschicklichkeits-Parkour             194       223\n98   0.000028                  Luftballonstaffel             162       223\n127  0.000028                Naturbilder basteln             217       223\n131  0.000029                    Wasserdetektive             221       223\n129  0.000029                         Naturbingo             219       223\n126  0.000031                  Ich male ein Bild             216       223\n113  0.000031         Wölflingsregeln besprechen             185       223\n117  0.000032           Eigene Löffel schnitzen!             198       223\n130  0.000033    Upcycling - Reisespiele basteln             220       223\n102  0.000034                       Kerzendrehen             173       223\n124  0.000034                        Traumkapsel             205       223\n"
    }
   ],
   "source": [
    "heimabend_index = 5\n",
    "\n",
    "for heimabend_index in range(0, df_feature_vector.shape[0]):\n",
    "    print('heimabend_index')\n",
    "    print(heimabend_index)\n",
    "    print('heimabend_index')\n",
    "    array_labels = df_feature_vector.columns.to_list()\n",
    "\n",
    "    df_feature_vector_with_text['index'] = df_feature_vector_with_text.index\n",
    "    title_array = df_feature_vector_with_text[['id', 'title']]\n",
    "    title_list = title_array.values.tolist()\n",
    "\n",
    "    feature_list = df_feature_vector[array_labels].values.tolist()\n",
    "\n",
    "    ary_1 = feature_list[heimabend_index]\n",
    "\n",
    "    feature_ary = []\n",
    "    for index, element in enumerate(feature_list):\n",
    "        score_cosine = distance.cosine(ary_1, element, weight)\n",
    "        feature_ary.append([score_cosine])\n",
    "        # print(score_cosine)\n",
    "\n",
    "    df_1 = pd.DataFrame(feature_ary, columns=['score'])\n",
    "    df_2 = pd.DataFrame(title_list, columns=['event_score_id', 'title'])\n",
    "    df = pd.concat([df_1, df_2], axis=1,).sort_values(by=['score']).iloc[1:15]\n",
    "    df['event_id'] = df_feature_vector_with_text.iloc[heimabend_index]['id']\n",
    "    df['is_public'] = True\n",
    "    df[['event_id', 'event_score_id', 'score', 'is_public']].to_sql('basic_nextbestheimabend', con=sqlEngine, if_exists='append', index=False)\n",
    "    print(df[['score', 'title', 'event_score_id', 'event_id']])"
   ]
  },
  {
   "cell_type": "code",
   "execution_count": 96,
   "metadata": {
    "tags": []
   },
   "outputs": [
    {
     "output_type": "error",
     "ename": "IntegrityError",
     "evalue": "(psycopg2.errors.NotNullViolation) null value in column \"is_public\" violates not-null constraint\nDETAIL:  Failing row contains (1967, null, null, null, null, null, 0.00000616, 223, 222).\n\n[SQL: INSERT INTO basic_nextbestheimabend (event_id, event_score_id, score) VALUES (%(event_id)s, %(event_score_id)s, %(score)s)]\n[parameters: ({'event_id': 223, 'event_score_id': 222, 'score': 6.162813115495602e-06}, {'event_id': 223, 'event_score_id': 218, 'score': 1.1247020123894558e-05}, {'event_id': 223, 'event_score_id': 201, 'score': 1.9337155432008757e-05}, {'event_id': 223, 'event_score_id': 194, 'score': 2.1817697884563003e-05}, {'event_id': 223, 'event_score_id': 162, 'score': 2.78825365060964e-05}, {'event_id': 223, 'event_score_id': 217, 'score': 2.8403546504018884e-05}, {'event_id': 223, 'event_score_id': 221, 'score': 2.8502626533088993e-05}, {'event_id': 223, 'event_score_id': 219, 'score': 2.9388734910318348e-05}  ... displaying 10 of 14 total bound parameter sets ...  {'event_id': 223, 'event_score_id': 173, 'score': 3.401043362205591e-05}, {'event_id': 223, 'event_score_id': 205, 'score': 3.437223184055149e-05})]\n(Background on this error at: http://sqlalche.me/e/13/gkpj)",
     "traceback": [
      "\u001b[0;31m---------------------------------------------------------------------------\u001b[0m",
      "\u001b[0;31mNotNullViolation\u001b[0m                          Traceback (most recent call last)",
      "\u001b[0;32m/opt/anaconda3/lib/python3.8/site-packages/sqlalchemy/engine/base.py\u001b[0m in \u001b[0;36m_execute_context\u001b[0;34m(self, dialect, constructor, statement, parameters, *args)\u001b[0m\n\u001b[1;32m   1256\u001b[0m                 \u001b[0;32mif\u001b[0m \u001b[0;32mnot\u001b[0m \u001b[0mevt_handled\u001b[0m\u001b[0;34m:\u001b[0m\u001b[0;34m\u001b[0m\u001b[0;34m\u001b[0m\u001b[0m\n\u001b[0;32m-> 1257\u001b[0;31m                     self.dialect.do_executemany(\n\u001b[0m\u001b[1;32m   1258\u001b[0m                         \u001b[0mcursor\u001b[0m\u001b[0;34m,\u001b[0m \u001b[0mstatement\u001b[0m\u001b[0;34m,\u001b[0m \u001b[0mparameters\u001b[0m\u001b[0;34m,\u001b[0m \u001b[0mcontext\u001b[0m\u001b[0;34m\u001b[0m\u001b[0;34m\u001b[0m\u001b[0m\n",
      "\u001b[0;32m/opt/anaconda3/lib/python3.8/site-packages/sqlalchemy/dialects/postgresql/psycopg2.py\u001b[0m in \u001b[0;36mdo_executemany\u001b[0;34m(self, cursor, statement, parameters, context)\u001b[0m\n\u001b[1;32m    872\u001b[0m         \u001b[0;32mif\u001b[0m \u001b[0mself\u001b[0m\u001b[0;34m.\u001b[0m\u001b[0mexecutemany_mode\u001b[0m \u001b[0;32mis\u001b[0m \u001b[0mEXECUTEMANY_DEFAULT\u001b[0m\u001b[0;34m:\u001b[0m\u001b[0;34m\u001b[0m\u001b[0;34m\u001b[0m\u001b[0m\n\u001b[0;32m--> 873\u001b[0;31m             \u001b[0mcursor\u001b[0m\u001b[0;34m.\u001b[0m\u001b[0mexecutemany\u001b[0m\u001b[0;34m(\u001b[0m\u001b[0mstatement\u001b[0m\u001b[0;34m,\u001b[0m \u001b[0mparameters\u001b[0m\u001b[0;34m)\u001b[0m\u001b[0;34m\u001b[0m\u001b[0;34m\u001b[0m\u001b[0m\n\u001b[0m\u001b[1;32m    874\u001b[0m             \u001b[0;32mreturn\u001b[0m\u001b[0;34m\u001b[0m\u001b[0;34m\u001b[0m\u001b[0m\n",
      "\u001b[0;31mNotNullViolation\u001b[0m: null value in column \"is_public\" violates not-null constraint\nDETAIL:  Failing row contains (1967, null, null, null, null, null, 0.00000616, 223, 222).\n",
      "\nThe above exception was the direct cause of the following exception:\n",
      "\u001b[0;31mIntegrityError\u001b[0m                            Traceback (most recent call last)",
      "\u001b[0;32m<ipython-input-96-790ee0fb9f68>\u001b[0m in \u001b[0;36m<module>\u001b[0;34m\u001b[0m\n\u001b[0;32m----> 1\u001b[0;31m \u001b[0mdf\u001b[0m\u001b[0;34m[\u001b[0m\u001b[0;34m[\u001b[0m\u001b[0;34m'event_id'\u001b[0m\u001b[0;34m,\u001b[0m \u001b[0;34m'event_score_id'\u001b[0m\u001b[0;34m,\u001b[0m \u001b[0;34m'score'\u001b[0m\u001b[0;34m,\u001b[0m\u001b[0;34m]\u001b[0m\u001b[0;34m]\u001b[0m\u001b[0;34m.\u001b[0m\u001b[0mto_sql\u001b[0m\u001b[0;34m(\u001b[0m\u001b[0;34m'basic_nextbestheimabend'\u001b[0m\u001b[0;34m,\u001b[0m \u001b[0mcon\u001b[0m\u001b[0;34m=\u001b[0m\u001b[0msqlEngine\u001b[0m\u001b[0;34m,\u001b[0m \u001b[0mif_exists\u001b[0m\u001b[0;34m=\u001b[0m\u001b[0;34m'append'\u001b[0m\u001b[0;34m,\u001b[0m \u001b[0mindex\u001b[0m\u001b[0;34m=\u001b[0m\u001b[0;32mFalse\u001b[0m\u001b[0;34m)\u001b[0m\u001b[0;34m\u001b[0m\u001b[0;34m\u001b[0m\u001b[0m\n\u001b[0m\u001b[1;32m      2\u001b[0m \u001b[0mprint\u001b[0m\u001b[0;34m(\u001b[0m\u001b[0mdf\u001b[0m\u001b[0;34m[\u001b[0m\u001b[0;34m[\u001b[0m\u001b[0;34m'score'\u001b[0m\u001b[0;34m,\u001b[0m \u001b[0;34m'title'\u001b[0m\u001b[0;34m,\u001b[0m \u001b[0;34m'event_score_id'\u001b[0m\u001b[0;34m,\u001b[0m \u001b[0;34m'event_id'\u001b[0m\u001b[0;34m]\u001b[0m\u001b[0;34m]\u001b[0m\u001b[0;34m)\u001b[0m\u001b[0;34m\u001b[0m\u001b[0;34m\u001b[0m\u001b[0m\n",
      "\u001b[0;32m/opt/anaconda3/lib/python3.8/site-packages/pandas/core/generic.py\u001b[0m in \u001b[0;36mto_sql\u001b[0;34m(self, name, con, schema, if_exists, index, index_label, chunksize, dtype, method)\u001b[0m\n\u001b[1;32m   2651\u001b[0m         \u001b[0;32mfrom\u001b[0m \u001b[0mpandas\u001b[0m\u001b[0;34m.\u001b[0m\u001b[0mio\u001b[0m \u001b[0;32mimport\u001b[0m \u001b[0msql\u001b[0m\u001b[0;34m\u001b[0m\u001b[0;34m\u001b[0m\u001b[0m\n\u001b[1;32m   2652\u001b[0m \u001b[0;34m\u001b[0m\u001b[0m\n\u001b[0;32m-> 2653\u001b[0;31m         sql.to_sql(\n\u001b[0m\u001b[1;32m   2654\u001b[0m             \u001b[0mself\u001b[0m\u001b[0;34m,\u001b[0m\u001b[0;34m\u001b[0m\u001b[0;34m\u001b[0m\u001b[0m\n\u001b[1;32m   2655\u001b[0m             \u001b[0mname\u001b[0m\u001b[0;34m,\u001b[0m\u001b[0;34m\u001b[0m\u001b[0;34m\u001b[0m\u001b[0m\n",
      "\u001b[0;32m/opt/anaconda3/lib/python3.8/site-packages/pandas/io/sql.py\u001b[0m in \u001b[0;36mto_sql\u001b[0;34m(frame, name, con, schema, if_exists, index, index_label, chunksize, dtype, method)\u001b[0m\n\u001b[1;32m    510\u001b[0m         )\n\u001b[1;32m    511\u001b[0m \u001b[0;34m\u001b[0m\u001b[0m\n\u001b[0;32m--> 512\u001b[0;31m     pandas_sql.to_sql(\n\u001b[0m\u001b[1;32m    513\u001b[0m         \u001b[0mframe\u001b[0m\u001b[0;34m,\u001b[0m\u001b[0;34m\u001b[0m\u001b[0;34m\u001b[0m\u001b[0m\n\u001b[1;32m    514\u001b[0m         \u001b[0mname\u001b[0m\u001b[0;34m,\u001b[0m\u001b[0;34m\u001b[0m\u001b[0;34m\u001b[0m\u001b[0m\n",
      "\u001b[0;32m/opt/anaconda3/lib/python3.8/site-packages/pandas/io/sql.py\u001b[0m in \u001b[0;36mto_sql\u001b[0;34m(self, frame, name, if_exists, index, index_label, schema, chunksize, dtype, method)\u001b[0m\n\u001b[1;32m   1315\u001b[0m         )\n\u001b[1;32m   1316\u001b[0m         \u001b[0mtable\u001b[0m\u001b[0;34m.\u001b[0m\u001b[0mcreate\u001b[0m\u001b[0;34m(\u001b[0m\u001b[0;34m)\u001b[0m\u001b[0;34m\u001b[0m\u001b[0;34m\u001b[0m\u001b[0m\n\u001b[0;32m-> 1317\u001b[0;31m         \u001b[0mtable\u001b[0m\u001b[0;34m.\u001b[0m\u001b[0minsert\u001b[0m\u001b[0;34m(\u001b[0m\u001b[0mchunksize\u001b[0m\u001b[0;34m,\u001b[0m \u001b[0mmethod\u001b[0m\u001b[0;34m=\u001b[0m\u001b[0mmethod\u001b[0m\u001b[0;34m)\u001b[0m\u001b[0;34m\u001b[0m\u001b[0;34m\u001b[0m\u001b[0m\n\u001b[0m\u001b[1;32m   1318\u001b[0m         \u001b[0;32mif\u001b[0m \u001b[0;32mnot\u001b[0m \u001b[0mname\u001b[0m\u001b[0;34m.\u001b[0m\u001b[0misdigit\u001b[0m\u001b[0;34m(\u001b[0m\u001b[0;34m)\u001b[0m \u001b[0;32mand\u001b[0m \u001b[0;32mnot\u001b[0m \u001b[0mname\u001b[0m\u001b[0;34m.\u001b[0m\u001b[0mislower\u001b[0m\u001b[0;34m(\u001b[0m\u001b[0;34m)\u001b[0m\u001b[0;34m:\u001b[0m\u001b[0;34m\u001b[0m\u001b[0;34m\u001b[0m\u001b[0m\n\u001b[1;32m   1319\u001b[0m             \u001b[0;31m# check for potentially case sensitivity issues (GH7815)\u001b[0m\u001b[0;34m\u001b[0m\u001b[0;34m\u001b[0m\u001b[0;34m\u001b[0m\u001b[0m\n",
      "\u001b[0;32m/opt/anaconda3/lib/python3.8/site-packages/pandas/io/sql.py\u001b[0m in \u001b[0;36minsert\u001b[0;34m(self, chunksize, method)\u001b[0m\n\u001b[1;32m    753\u001b[0m \u001b[0;34m\u001b[0m\u001b[0m\n\u001b[1;32m    754\u001b[0m                 \u001b[0mchunk_iter\u001b[0m \u001b[0;34m=\u001b[0m \u001b[0mzip\u001b[0m\u001b[0;34m(\u001b[0m\u001b[0;34m*\u001b[0m\u001b[0;34m[\u001b[0m\u001b[0marr\u001b[0m\u001b[0;34m[\u001b[0m\u001b[0mstart_i\u001b[0m\u001b[0;34m:\u001b[0m\u001b[0mend_i\u001b[0m\u001b[0;34m]\u001b[0m \u001b[0;32mfor\u001b[0m \u001b[0marr\u001b[0m \u001b[0;32min\u001b[0m \u001b[0mdata_list\u001b[0m\u001b[0;34m]\u001b[0m\u001b[0;34m)\u001b[0m\u001b[0;34m\u001b[0m\u001b[0;34m\u001b[0m\u001b[0m\n\u001b[0;32m--> 755\u001b[0;31m                 \u001b[0mexec_insert\u001b[0m\u001b[0;34m(\u001b[0m\u001b[0mconn\u001b[0m\u001b[0;34m,\u001b[0m \u001b[0mkeys\u001b[0m\u001b[0;34m,\u001b[0m \u001b[0mchunk_iter\u001b[0m\u001b[0;34m)\u001b[0m\u001b[0;34m\u001b[0m\u001b[0;34m\u001b[0m\u001b[0m\n\u001b[0m\u001b[1;32m    756\u001b[0m \u001b[0;34m\u001b[0m\u001b[0m\n\u001b[1;32m    757\u001b[0m     def _query_iterator(\n",
      "\u001b[0;32m/opt/anaconda3/lib/python3.8/site-packages/pandas/io/sql.py\u001b[0m in \u001b[0;36m_execute_insert\u001b[0;34m(self, conn, keys, data_iter)\u001b[0m\n\u001b[1;32m    667\u001b[0m         \"\"\"\n\u001b[1;32m    668\u001b[0m         \u001b[0mdata\u001b[0m \u001b[0;34m=\u001b[0m \u001b[0;34m[\u001b[0m\u001b[0mdict\u001b[0m\u001b[0;34m(\u001b[0m\u001b[0mzip\u001b[0m\u001b[0;34m(\u001b[0m\u001b[0mkeys\u001b[0m\u001b[0;34m,\u001b[0m \u001b[0mrow\u001b[0m\u001b[0;34m)\u001b[0m\u001b[0;34m)\u001b[0m \u001b[0;32mfor\u001b[0m \u001b[0mrow\u001b[0m \u001b[0;32min\u001b[0m \u001b[0mdata_iter\u001b[0m\u001b[0;34m]\u001b[0m\u001b[0;34m\u001b[0m\u001b[0;34m\u001b[0m\u001b[0m\n\u001b[0;32m--> 669\u001b[0;31m         \u001b[0mconn\u001b[0m\u001b[0;34m.\u001b[0m\u001b[0mexecute\u001b[0m\u001b[0;34m(\u001b[0m\u001b[0mself\u001b[0m\u001b[0;34m.\u001b[0m\u001b[0mtable\u001b[0m\u001b[0;34m.\u001b[0m\u001b[0minsert\u001b[0m\u001b[0;34m(\u001b[0m\u001b[0;34m)\u001b[0m\u001b[0;34m,\u001b[0m \u001b[0mdata\u001b[0m\u001b[0;34m)\u001b[0m\u001b[0;34m\u001b[0m\u001b[0;34m\u001b[0m\u001b[0m\n\u001b[0m\u001b[1;32m    670\u001b[0m \u001b[0;34m\u001b[0m\u001b[0m\n\u001b[1;32m    671\u001b[0m     \u001b[0;32mdef\u001b[0m \u001b[0m_execute_insert_multi\u001b[0m\u001b[0;34m(\u001b[0m\u001b[0mself\u001b[0m\u001b[0;34m,\u001b[0m \u001b[0mconn\u001b[0m\u001b[0;34m,\u001b[0m \u001b[0mkeys\u001b[0m\u001b[0;34m,\u001b[0m \u001b[0mdata_iter\u001b[0m\u001b[0;34m)\u001b[0m\u001b[0;34m:\u001b[0m\u001b[0;34m\u001b[0m\u001b[0;34m\u001b[0m\u001b[0m\n",
      "\u001b[0;32m/opt/anaconda3/lib/python3.8/site-packages/sqlalchemy/engine/base.py\u001b[0m in \u001b[0;36mexecute\u001b[0;34m(self, object_, *multiparams, **params)\u001b[0m\n\u001b[1;32m   1012\u001b[0m             )\n\u001b[1;32m   1013\u001b[0m         \u001b[0;32melse\u001b[0m\u001b[0;34m:\u001b[0m\u001b[0;34m\u001b[0m\u001b[0;34m\u001b[0m\u001b[0m\n\u001b[0;32m-> 1014\u001b[0;31m             \u001b[0;32mreturn\u001b[0m \u001b[0mmeth\u001b[0m\u001b[0;34m(\u001b[0m\u001b[0mself\u001b[0m\u001b[0;34m,\u001b[0m \u001b[0mmultiparams\u001b[0m\u001b[0;34m,\u001b[0m \u001b[0mparams\u001b[0m\u001b[0;34m)\u001b[0m\u001b[0;34m\u001b[0m\u001b[0;34m\u001b[0m\u001b[0m\n\u001b[0m\u001b[1;32m   1015\u001b[0m \u001b[0;34m\u001b[0m\u001b[0m\n\u001b[1;32m   1016\u001b[0m     \u001b[0;32mdef\u001b[0m \u001b[0m_execute_function\u001b[0m\u001b[0;34m(\u001b[0m\u001b[0mself\u001b[0m\u001b[0;34m,\u001b[0m \u001b[0mfunc\u001b[0m\u001b[0;34m,\u001b[0m \u001b[0mmultiparams\u001b[0m\u001b[0;34m,\u001b[0m \u001b[0mparams\u001b[0m\u001b[0;34m)\u001b[0m\u001b[0;34m:\u001b[0m\u001b[0;34m\u001b[0m\u001b[0;34m\u001b[0m\u001b[0m\n",
      "\u001b[0;32m/opt/anaconda3/lib/python3.8/site-packages/sqlalchemy/sql/elements.py\u001b[0m in \u001b[0;36m_execute_on_connection\u001b[0;34m(self, connection, multiparams, params)\u001b[0m\n\u001b[1;32m    296\u001b[0m     \u001b[0;32mdef\u001b[0m \u001b[0m_execute_on_connection\u001b[0m\u001b[0;34m(\u001b[0m\u001b[0mself\u001b[0m\u001b[0;34m,\u001b[0m \u001b[0mconnection\u001b[0m\u001b[0;34m,\u001b[0m \u001b[0mmultiparams\u001b[0m\u001b[0;34m,\u001b[0m \u001b[0mparams\u001b[0m\u001b[0;34m)\u001b[0m\u001b[0;34m:\u001b[0m\u001b[0;34m\u001b[0m\u001b[0;34m\u001b[0m\u001b[0m\n\u001b[1;32m    297\u001b[0m         \u001b[0;32mif\u001b[0m \u001b[0mself\u001b[0m\u001b[0;34m.\u001b[0m\u001b[0msupports_execution\u001b[0m\u001b[0;34m:\u001b[0m\u001b[0;34m\u001b[0m\u001b[0;34m\u001b[0m\u001b[0m\n\u001b[0;32m--> 298\u001b[0;31m             \u001b[0;32mreturn\u001b[0m \u001b[0mconnection\u001b[0m\u001b[0;34m.\u001b[0m\u001b[0m_execute_clauseelement\u001b[0m\u001b[0;34m(\u001b[0m\u001b[0mself\u001b[0m\u001b[0;34m,\u001b[0m \u001b[0mmultiparams\u001b[0m\u001b[0;34m,\u001b[0m \u001b[0mparams\u001b[0m\u001b[0;34m)\u001b[0m\u001b[0;34m\u001b[0m\u001b[0;34m\u001b[0m\u001b[0m\n\u001b[0m\u001b[1;32m    299\u001b[0m         \u001b[0;32melse\u001b[0m\u001b[0;34m:\u001b[0m\u001b[0;34m\u001b[0m\u001b[0;34m\u001b[0m\u001b[0m\n\u001b[1;32m    300\u001b[0m             \u001b[0;32mraise\u001b[0m \u001b[0mexc\u001b[0m\u001b[0;34m.\u001b[0m\u001b[0mObjectNotExecutableError\u001b[0m\u001b[0;34m(\u001b[0m\u001b[0mself\u001b[0m\u001b[0;34m)\u001b[0m\u001b[0;34m\u001b[0m\u001b[0;34m\u001b[0m\u001b[0m\n",
      "\u001b[0;32m/opt/anaconda3/lib/python3.8/site-packages/sqlalchemy/engine/base.py\u001b[0m in \u001b[0;36m_execute_clauseelement\u001b[0;34m(self, elem, multiparams, params)\u001b[0m\n\u001b[1;32m   1125\u001b[0m             )\n\u001b[1;32m   1126\u001b[0m \u001b[0;34m\u001b[0m\u001b[0m\n\u001b[0;32m-> 1127\u001b[0;31m         ret = self._execute_context(\n\u001b[0m\u001b[1;32m   1128\u001b[0m             \u001b[0mdialect\u001b[0m\u001b[0;34m,\u001b[0m\u001b[0;34m\u001b[0m\u001b[0;34m\u001b[0m\u001b[0m\n\u001b[1;32m   1129\u001b[0m             \u001b[0mdialect\u001b[0m\u001b[0;34m.\u001b[0m\u001b[0mexecution_ctx_cls\u001b[0m\u001b[0;34m.\u001b[0m\u001b[0m_init_compiled\u001b[0m\u001b[0;34m,\u001b[0m\u001b[0;34m\u001b[0m\u001b[0;34m\u001b[0m\u001b[0m\n",
      "\u001b[0;32m/opt/anaconda3/lib/python3.8/site-packages/sqlalchemy/engine/base.py\u001b[0m in \u001b[0;36m_execute_context\u001b[0;34m(self, dialect, constructor, statement, parameters, *args)\u001b[0m\n\u001b[1;32m   1315\u001b[0m \u001b[0;34m\u001b[0m\u001b[0m\n\u001b[1;32m   1316\u001b[0m         \u001b[0;32mexcept\u001b[0m \u001b[0mBaseException\u001b[0m \u001b[0;32mas\u001b[0m \u001b[0me\u001b[0m\u001b[0;34m:\u001b[0m\u001b[0;34m\u001b[0m\u001b[0;34m\u001b[0m\u001b[0m\n\u001b[0;32m-> 1317\u001b[0;31m             self._handle_dbapi_exception(\n\u001b[0m\u001b[1;32m   1318\u001b[0m                 \u001b[0me\u001b[0m\u001b[0;34m,\u001b[0m \u001b[0mstatement\u001b[0m\u001b[0;34m,\u001b[0m \u001b[0mparameters\u001b[0m\u001b[0;34m,\u001b[0m \u001b[0mcursor\u001b[0m\u001b[0;34m,\u001b[0m \u001b[0mcontext\u001b[0m\u001b[0;34m\u001b[0m\u001b[0;34m\u001b[0m\u001b[0m\n\u001b[1;32m   1319\u001b[0m             )\n",
      "\u001b[0;32m/opt/anaconda3/lib/python3.8/site-packages/sqlalchemy/engine/base.py\u001b[0m in \u001b[0;36m_handle_dbapi_exception\u001b[0;34m(self, e, statement, parameters, cursor, context)\u001b[0m\n\u001b[1;32m   1509\u001b[0m                 \u001b[0mutil\u001b[0m\u001b[0;34m.\u001b[0m\u001b[0mraise_\u001b[0m\u001b[0;34m(\u001b[0m\u001b[0mnewraise\u001b[0m\u001b[0;34m,\u001b[0m \u001b[0mwith_traceback\u001b[0m\u001b[0;34m=\u001b[0m\u001b[0mexc_info\u001b[0m\u001b[0;34m[\u001b[0m\u001b[0;36m2\u001b[0m\u001b[0;34m]\u001b[0m\u001b[0;34m,\u001b[0m \u001b[0mfrom_\u001b[0m\u001b[0;34m=\u001b[0m\u001b[0me\u001b[0m\u001b[0;34m)\u001b[0m\u001b[0;34m\u001b[0m\u001b[0;34m\u001b[0m\u001b[0m\n\u001b[1;32m   1510\u001b[0m             \u001b[0;32melif\u001b[0m \u001b[0mshould_wrap\u001b[0m\u001b[0;34m:\u001b[0m\u001b[0;34m\u001b[0m\u001b[0;34m\u001b[0m\u001b[0m\n\u001b[0;32m-> 1511\u001b[0;31m                 util.raise_(\n\u001b[0m\u001b[1;32m   1512\u001b[0m                     \u001b[0msqlalchemy_exception\u001b[0m\u001b[0;34m,\u001b[0m \u001b[0mwith_traceback\u001b[0m\u001b[0;34m=\u001b[0m\u001b[0mexc_info\u001b[0m\u001b[0;34m[\u001b[0m\u001b[0;36m2\u001b[0m\u001b[0;34m]\u001b[0m\u001b[0;34m,\u001b[0m \u001b[0mfrom_\u001b[0m\u001b[0;34m=\u001b[0m\u001b[0me\u001b[0m\u001b[0;34m\u001b[0m\u001b[0;34m\u001b[0m\u001b[0m\n\u001b[1;32m   1513\u001b[0m                 )\n",
      "\u001b[0;32m/opt/anaconda3/lib/python3.8/site-packages/sqlalchemy/util/compat.py\u001b[0m in \u001b[0;36mraise_\u001b[0;34m(***failed resolving arguments***)\u001b[0m\n\u001b[1;32m    176\u001b[0m \u001b[0;34m\u001b[0m\u001b[0m\n\u001b[1;32m    177\u001b[0m         \u001b[0;32mtry\u001b[0m\u001b[0;34m:\u001b[0m\u001b[0;34m\u001b[0m\u001b[0;34m\u001b[0m\u001b[0m\n\u001b[0;32m--> 178\u001b[0;31m             \u001b[0;32mraise\u001b[0m \u001b[0mexception\u001b[0m\u001b[0;34m\u001b[0m\u001b[0;34m\u001b[0m\u001b[0m\n\u001b[0m\u001b[1;32m    179\u001b[0m         \u001b[0;32mfinally\u001b[0m\u001b[0;34m:\u001b[0m\u001b[0;34m\u001b[0m\u001b[0;34m\u001b[0m\u001b[0m\n\u001b[1;32m    180\u001b[0m             \u001b[0;31m# credit to\u001b[0m\u001b[0;34m\u001b[0m\u001b[0;34m\u001b[0m\u001b[0;34m\u001b[0m\u001b[0m\n",
      "\u001b[0;32m/opt/anaconda3/lib/python3.8/site-packages/sqlalchemy/engine/base.py\u001b[0m in \u001b[0;36m_execute_context\u001b[0;34m(self, dialect, constructor, statement, parameters, *args)\u001b[0m\n\u001b[1;32m   1255\u001b[0m                             \u001b[0;32mbreak\u001b[0m\u001b[0;34m\u001b[0m\u001b[0;34m\u001b[0m\u001b[0m\n\u001b[1;32m   1256\u001b[0m                 \u001b[0;32mif\u001b[0m \u001b[0;32mnot\u001b[0m \u001b[0mevt_handled\u001b[0m\u001b[0;34m:\u001b[0m\u001b[0;34m\u001b[0m\u001b[0;34m\u001b[0m\u001b[0m\n\u001b[0;32m-> 1257\u001b[0;31m                     self.dialect.do_executemany(\n\u001b[0m\u001b[1;32m   1258\u001b[0m                         \u001b[0mcursor\u001b[0m\u001b[0;34m,\u001b[0m \u001b[0mstatement\u001b[0m\u001b[0;34m,\u001b[0m \u001b[0mparameters\u001b[0m\u001b[0;34m,\u001b[0m \u001b[0mcontext\u001b[0m\u001b[0;34m\u001b[0m\u001b[0;34m\u001b[0m\u001b[0m\n\u001b[1;32m   1259\u001b[0m                     )\n",
      "\u001b[0;32m/opt/anaconda3/lib/python3.8/site-packages/sqlalchemy/dialects/postgresql/psycopg2.py\u001b[0m in \u001b[0;36mdo_executemany\u001b[0;34m(self, cursor, statement, parameters, context)\u001b[0m\n\u001b[1;32m    871\u001b[0m     \u001b[0;32mdef\u001b[0m \u001b[0mdo_executemany\u001b[0m\u001b[0;34m(\u001b[0m\u001b[0mself\u001b[0m\u001b[0;34m,\u001b[0m \u001b[0mcursor\u001b[0m\u001b[0;34m,\u001b[0m \u001b[0mstatement\u001b[0m\u001b[0;34m,\u001b[0m \u001b[0mparameters\u001b[0m\u001b[0;34m,\u001b[0m \u001b[0mcontext\u001b[0m\u001b[0;34m=\u001b[0m\u001b[0;32mNone\u001b[0m\u001b[0;34m)\u001b[0m\u001b[0;34m:\u001b[0m\u001b[0;34m\u001b[0m\u001b[0;34m\u001b[0m\u001b[0m\n\u001b[1;32m    872\u001b[0m         \u001b[0;32mif\u001b[0m \u001b[0mself\u001b[0m\u001b[0;34m.\u001b[0m\u001b[0mexecutemany_mode\u001b[0m \u001b[0;32mis\u001b[0m \u001b[0mEXECUTEMANY_DEFAULT\u001b[0m\u001b[0;34m:\u001b[0m\u001b[0;34m\u001b[0m\u001b[0;34m\u001b[0m\u001b[0m\n\u001b[0;32m--> 873\u001b[0;31m             \u001b[0mcursor\u001b[0m\u001b[0;34m.\u001b[0m\u001b[0mexecutemany\u001b[0m\u001b[0;34m(\u001b[0m\u001b[0mstatement\u001b[0m\u001b[0;34m,\u001b[0m \u001b[0mparameters\u001b[0m\u001b[0;34m)\u001b[0m\u001b[0;34m\u001b[0m\u001b[0;34m\u001b[0m\u001b[0m\n\u001b[0m\u001b[1;32m    874\u001b[0m             \u001b[0;32mreturn\u001b[0m\u001b[0;34m\u001b[0m\u001b[0;34m\u001b[0m\u001b[0m\n\u001b[1;32m    875\u001b[0m \u001b[0;34m\u001b[0m\u001b[0m\n",
      "\u001b[0;31mIntegrityError\u001b[0m: (psycopg2.errors.NotNullViolation) null value in column \"is_public\" violates not-null constraint\nDETAIL:  Failing row contains (1967, null, null, null, null, null, 0.00000616, 223, 222).\n\n[SQL: INSERT INTO basic_nextbestheimabend (event_id, event_score_id, score) VALUES (%(event_id)s, %(event_score_id)s, %(score)s)]\n[parameters: ({'event_id': 223, 'event_score_id': 222, 'score': 6.162813115495602e-06}, {'event_id': 223, 'event_score_id': 218, 'score': 1.1247020123894558e-05}, {'event_id': 223, 'event_score_id': 201, 'score': 1.9337155432008757e-05}, {'event_id': 223, 'event_score_id': 194, 'score': 2.1817697884563003e-05}, {'event_id': 223, 'event_score_id': 162, 'score': 2.78825365060964e-05}, {'event_id': 223, 'event_score_id': 217, 'score': 2.8403546504018884e-05}, {'event_id': 223, 'event_score_id': 221, 'score': 2.8502626533088993e-05}, {'event_id': 223, 'event_score_id': 219, 'score': 2.9388734910318348e-05}  ... displaying 10 of 14 total bound parameter sets ...  {'event_id': 223, 'event_score_id': 173, 'score': 3.401043362205591e-05}, {'event_id': 223, 'event_score_id': 205, 'score': 3.437223184055149e-05})]\n(Background on this error at: http://sqlalche.me/e/13/gkpj)"
     ]
    }
   ],
   "source": [
    "    df[['event_id', 'event_score_id', 'score',]].to_sql('basic_nextbestheimabend', con=sqlEngine, if_exists='append', index=False)\n",
    "    print(df[['score', 'title', 'event_score_id', 'event_id']])"
   ]
  },
  {
   "cell_type": "code",
   "execution_count": null,
   "metadata": {},
   "outputs": [],
   "source": []
  }
 ]
}