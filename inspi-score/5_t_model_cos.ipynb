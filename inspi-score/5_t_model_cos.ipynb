{
 "metadata": {
  "language_info": {
   "codemirror_mode": {
    "name": "ipython",
    "version": 3
   },
   "file_extension": ".py",
   "mimetype": "text/x-python",
   "name": "python",
   "nbconvert_exporter": "python",
   "pygments_lexer": "ipython3",
   "version": "3.8.3-final"
  },
  "orig_nbformat": 2,
  "kernelspec": {
   "name": "python3",
   "display_name": "Python 3"
  }
 },
 "nbformat": 4,
 "nbformat_minor": 2,
 "cells": [
  {
   "cell_type": "code",
   "execution_count": 12,
   "metadata": {},
   "outputs": [],
   "source": [
    "import pandas as pd\n",
    "from scipy.spatial import distance\n",
    "from sqlalchemy import create_engine\n",
    "\n",
    "pd.set_option('display.max_rows', 500)\n",
    "pd.set_option('display.max_columns', 500)\n",
    "pd.set_option('display.width', 1000)"
   ]
  },
  {
   "cell_type": "code",
   "execution_count": 13,
   "metadata": {},
   "outputs": [],
   "source": [
    "import os\n",
    "\n",
    "import pymysql\n",
    "import pandas as pd\n",
    "\n",
    "from sqlalchemy import create_engine\n",
    "from dotenv import load_dotenv\n"
   ]
  },
  {
   "cell_type": "code",
   "execution_count": 14,
   "metadata": {},
   "outputs": [
    {
     "output_type": "execute_result",
     "data": {
      "text/plain": "True"
     },
     "metadata": {},
     "execution_count": 14
    }
   ],
   "source": [
    "# setup env\n",
    "load_dotenv()"
   ]
  },
  {
   "cell_type": "code",
   "execution_count": 15,
   "metadata": {},
   "outputs": [
    {
     "output_type": "execute_result",
     "data": {
      "text/plain": "(134, 80)"
     },
     "metadata": {},
     "execution_count": 15
    }
   ],
   "source": [
    "df_feature_vector = pd.read_parquet('data/feature_vector_num.parquet')\n",
    "df_feature_vector_with_text = pd.read_parquet('data/feature_vector.parquet')\n",
    "df_tag = pd.read_parquet('data/tag.parquet')\n",
    "df_feature_vector_with_text.shape"
   ]
  },
  {
   "cell_type": "code",
   "execution_count": 16,
   "metadata": {},
   "outputs": [],
   "source": [
    "# setup db\n",
    "user = os.getenv('RDS_USERNAME')\n",
    "password = os.getenv('RDS_PASSWORD')\n",
    "host = os.getenv('RDS_HOSTNAME')\n",
    "db = os.getenv('RDS_DB_NAME')\n",
    "port = os.getenv('RDS_PORT')\n",
    "\n",
    "db_string = \"postgresql://{}:{}@{}:{}/{}\".format(user,password,host,port,db)\n",
    "sqlEngine = create_engine(db_string)"
   ]
  },
  {
   "cell_type": "code",
   "execution_count": 17,
   "metadata": {},
   "outputs": [],
   "source": [
    "df_tag = pd.read_parquet('data/tag.parquet')\n",
    "df_tag = df_tag[['name', 'category_id']]\n",
    "df_tag['weight'] = df_tag['category_id'].apply(lambda x: 3 if x == 9 else 0.3 if x == 1 else 1)"
   ]
  },
  {
   "cell_type": "code",
   "execution_count": 18,
   "metadata": {},
   "outputs": [],
   "source": [
    "df_all_features = pd.DataFrame(df_feature_vector.columns.to_list(), columns=['name'])"
   ]
  },
  {
   "cell_type": "code",
   "execution_count": 19,
   "metadata": {},
   "outputs": [],
   "source": [
    "df_merge_tag_features = pd.merge(df_tag, df_all_features, on='name')\n",
    "\n",
    "allFeatures = df_feature_vector.columns.to_list()\n",
    "df_name = df_merge_tag_features['name']\n",
    "\n",
    "for i in df_name.to_numpy():\n",
    "    allFeatures.remove(i)\n",
    "\n",
    "for i in allFeatures:\n",
    "    df_merge_tag_features = df_merge_tag_features.append({'name': i, 'weight': 0.3}, ignore_index=True)\n",
    "\n",
    "array = df_feature_vector.columns.to_list()\n",
    "array.remove('id')\n",
    "array.remove('Mit Abstand')\n",
    "array.remove('Videokonferenz')\n",
    "array.remove('Pfadfinder')\n",
    "array.remove('Rover')\n",
    "\n",
    "weight = df_merge_tag_features['weight'].to_numpy()\n",
    "array_labels = df_merge_tag_features['name'].to_numpy()"
   ]
  },
  {
   "cell_type": "code",
   "execution_count": 80,
   "metadata": {},
   "outputs": [
    {
     "output_type": "execute_result",
     "data": {
      "text/plain": "(134, 61)"
     },
     "metadata": {},
     "execution_count": 80
    }
   ],
   "source": []
  },
  {
   "cell_type": "code",
   "execution_count": 20,
   "metadata": {
    "tags": []
   },
   "outputs": [
    {
     "output_type": "stream",
     "name": "stdout",
     "text": "heimabend_index\n0\nheimabend_index\nheimabend_index\n1\nheimabend_index\nheimabend_index\n2\nheimabend_index\nheimabend_index\n3\nheimabend_index\nheimabend_index\n4\nheimabend_index\nheimabend_index\n5\nheimabend_index\nheimabend_index\n6\nheimabend_index\nheimabend_index\n7\nheimabend_index\nheimabend_index\n8\nheimabend_index\nheimabend_index\n9\nheimabend_index\nheimabend_index\n10\nheimabend_index\nheimabend_index\n11\nheimabend_index\nheimabend_index\n12\nheimabend_index\nheimabend_index\n13\nheimabend_index\nheimabend_index\n14\nheimabend_index\nheimabend_index\n15\nheimabend_index\nheimabend_index\n16\nheimabend_index\nheimabend_index\n17\nheimabend_index\nheimabend_index\n18\nheimabend_index\nheimabend_index\n19\nheimabend_index\nheimabend_index\n20\nheimabend_index\nheimabend_index\n21\nheimabend_index\nheimabend_index\n22\nheimabend_index\nheimabend_index\n23\nheimabend_index\nheimabend_index\n24\nheimabend_index\nheimabend_index\n25\nheimabend_index\nheimabend_index\n26\nheimabend_index\nheimabend_index\n27\nheimabend_index\nheimabend_index\n28\nheimabend_index\nheimabend_index\n29\nheimabend_index\nheimabend_index\n30\nheimabend_index\nheimabend_index\n31\nheimabend_index\nheimabend_index\n32\nheimabend_index\nheimabend_index\n33\nheimabend_index\nheimabend_index\n34\nheimabend_index\nheimabend_index\n35\nheimabend_index\nheimabend_index\n36\nheimabend_index\nheimabend_index\n37\nheimabend_index\nheimabend_index\n38\nheimabend_index\nheimabend_index\n39\nheimabend_index\nheimabend_index\n40\nheimabend_index\nheimabend_index\n41\nheimabend_index\nheimabend_index\n42\nheimabend_index\nheimabend_index\n43\nheimabend_index\nheimabend_index\n44\nheimabend_index\nheimabend_index\n45\nheimabend_index\nheimabend_index\n46\nheimabend_index\nheimabend_index\n47\nheimabend_index\nheimabend_index\n48\nheimabend_index\nheimabend_index\n49\nheimabend_index\nheimabend_index\n50\nheimabend_index\nheimabend_index\n51\nheimabend_index\nheimabend_index\n52\nheimabend_index\nheimabend_index\n53\nheimabend_index\nheimabend_index\n54\nheimabend_index\nheimabend_index\n55\nheimabend_index\nheimabend_index\n56\nheimabend_index\nheimabend_index\n57\nheimabend_index\nheimabend_index\n58\nheimabend_index\nheimabend_index\n59\nheimabend_index\nheimabend_index\n60\nheimabend_index\nheimabend_index\n61\nheimabend_index\nheimabend_index\n62\nheimabend_index\nheimabend_index\n63\nheimabend_index\nheimabend_index\n64\nheimabend_index\nheimabend_index\n65\nheimabend_index\nheimabend_index\n66\nheimabend_index\nheimabend_index\n67\nheimabend_index\nheimabend_index\n68\nheimabend_index\nheimabend_index\n69\nheimabend_index\nheimabend_index\n70\nheimabend_index\nheimabend_index\n71\nheimabend_index\nheimabend_index\n72\nheimabend_index\nheimabend_index\n73\nheimabend_index\nheimabend_index\n74\nheimabend_index\nheimabend_index\n75\nheimabend_index\nheimabend_index\n76\nheimabend_index\nheimabend_index\n77\nheimabend_index\nheimabend_index\n78\nheimabend_index\nheimabend_index\n79\nheimabend_index\nheimabend_index\n80\nheimabend_index\nheimabend_index\n81\nheimabend_index\nheimabend_index\n82\nheimabend_index\nheimabend_index\n83\nheimabend_index\nheimabend_index\n84\nheimabend_index\nheimabend_index\n85\nheimabend_index\nheimabend_index\n86\nheimabend_index\nheimabend_index\n87\nheimabend_index\nheimabend_index\n88\nheimabend_index\nheimabend_index\n89\nheimabend_index\nheimabend_index\n90\nheimabend_index\nheimabend_index\n91\nheimabend_index\nheimabend_index\n92\nheimabend_index\nheimabend_index\n93\nheimabend_index\nheimabend_index\n94\nheimabend_index\nheimabend_index\n95\nheimabend_index\nheimabend_index\n96\nheimabend_index\nheimabend_index\n97\nheimabend_index\nheimabend_index\n98\nheimabend_index\nheimabend_index\n99\nheimabend_index\nheimabend_index\n100\nheimabend_index\nheimabend_index\n101\nheimabend_index\nheimabend_index\n102\nheimabend_index\nheimabend_index\n103\nheimabend_index\nheimabend_index\n104\nheimabend_index\nheimabend_index\n105\nheimabend_index\nheimabend_index\n106\nheimabend_index\nheimabend_index\n107\nheimabend_index\nheimabend_index\n108\nheimabend_index\nheimabend_index\n109\nheimabend_index\nheimabend_index\n110\nheimabend_index\nheimabend_index\n111\nheimabend_index\nheimabend_index\n112\nheimabend_index\nheimabend_index\n113\nheimabend_index\nheimabend_index\n114\nheimabend_index\nheimabend_index\n115\nheimabend_index\nheimabend_index\n116\nheimabend_index\nheimabend_index\n117\nheimabend_index\nheimabend_index\n118\nheimabend_index\nheimabend_index\n119\nheimabend_index\nheimabend_index\n120\nheimabend_index\nheimabend_index\n121\nheimabend_index\nheimabend_index\n122\nheimabend_index\nheimabend_index\n123\nheimabend_index\nheimabend_index\n124\nheimabend_index\nheimabend_index\n125\nheimabend_index\nheimabend_index\n126\nheimabend_index\nheimabend_index\n127\nheimabend_index\nheimabend_index\n128\nheimabend_index\nheimabend_index\n129\nheimabend_index\nheimabend_index\n130\nheimabend_index\nheimabend_index\n131\nheimabend_index\nheimabend_index\n132\nheimabend_index\nheimabend_index\n133\nheimabend_index\n"
    }
   ],
   "source": [
    "heimabend_index = 5\n",
    "\n",
    "for heimabend_index in range(0, df_feature_vector.shape[0]):\n",
    "    print('heimabend_index')\n",
    "    print(heimabend_index)\n",
    "    print('heimabend_index')\n",
    "    array_labels = df_feature_vector.columns.to_list()\n",
    "\n",
    "    df_feature_vector_with_text['index'] = df_feature_vector_with_text.index\n",
    "    title_array = df_feature_vector_with_text[['id', 'title']]\n",
    "    title_list = title_array.values.tolist()\n",
    "\n",
    "    feature_list = df_feature_vector[array_labels].values.tolist()\n",
    "\n",
    "    ary_1 = feature_list[heimabend_index]\n",
    "\n",
    "    feature_ary = []\n",
    "    for index, element in enumerate(feature_list):\n",
    "        score_cosine = distance.cosine(ary_1, element, weight)\n",
    "        feature_ary.append([score_cosine])\n",
    "        # print(score_cosine)\n",
    "\n",
    "    df_1 = pd.DataFrame(feature_ary, columns=['score'])\n",
    "    df_2 = pd.DataFrame(title_list, columns=['event_score_id', 'title'])\n",
    "    df = pd.concat([df_1, df_2], axis=1,).sort_values(by=['score']).iloc[1:15]\n",
    "    df['event_id'] = df_feature_vector_with_text.iloc[heimabend_index]['id']\n",
    "    df['is_public'] = True\n",
    "    df[['event_id', 'event_score_id', 'score', 'is_public']].to_sql('basic_nextbestheimabend', con=sqlEngine, if_exists='append', index=False)\n",
    "    # print(df[['score', 'title', 'event_score_id', 'event_id']])"
   ]
  },
  {
   "cell_type": "code",
   "execution_count": 21,
   "metadata": {
    "tags": []
   },
   "outputs": [],
   "source": [
    "    # df[['event_id', 'event_score_id', 'score',]].to_sql('basic_nextbestheimabend', con=sqlEngine, if_exists='append', index=False)\n",
    "    # print(df[['score', 'title', 'event_score_id', 'event_id']])"
   ]
  },
  {
   "cell_type": "code",
   "execution_count": null,
   "metadata": {},
   "outputs": [],
   "source": []
  }
 ]
}