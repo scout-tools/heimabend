{
 "metadata": {
  "language_info": {
   "codemirror_mode": {
    "name": "ipython",
    "version": 3
   },
   "file_extension": ".py",
   "mimetype": "text/x-python",
   "name": "python",
   "nbconvert_exporter": "python",
   "pygments_lexer": "ipython3",
   "version": "3.8.3-final"
  },
  "orig_nbformat": 2,
  "kernelspec": {
   "name": "python3",
   "display_name": "Python 3"
  }
 },
 "nbformat": 4,
 "nbformat_minor": 2,
 "cells": [
  {
   "cell_type": "code",
   "execution_count": 21,
   "metadata": {},
   "outputs": [],
   "source": [
    "import pandas as pd\n",
    "from scipy.spatial import distance\n",
    "from sqlalchemy import create_engine\n",
    "\n",
    "pd.set_option('display.max_rows', 500)\n",
    "pd.set_option('display.max_columns', 500)\n",
    "pd.set_option('display.width', 1000)"
   ]
  },
  {
   "cell_type": "code",
   "execution_count": 22,
   "metadata": {},
   "outputs": [],
   "source": [
    "df_all_features = pd.DataFrame(df_feature_vector.columns.to_list(), columns=['name'])\n",
    "df_merge_tag_features = pd.merge(df_tag, df_all_features, on='name')\n",
    "\n",
    "allFeatures = df_feature_vector.columns.to_list()\n",
    "df_name = df_merge_tag_features['name']\n",
    "\n",
    "for i in df_name.to_numpy():\n",
    "    allFeatures.remove(i)\n",
    "\n",
    "for i in allFeatures:\n",
    "    df_merge_tag_features = df_merge_tag_features.append({'name': i, 'weight': 0.1}, ignore_index=True)\n",
    "\n",
    "array = df_feature_vector.columns.to_list()\n",
    "array.remove('id')\n",
    "array.remove('Mit Abstand')\n",
    "array.remove('Videokonferenz')\n",
    "array.remove('Pfadfinder')\n",
    "array.remove('Rover')\n",
    "\n",
    "weight = df_merge_tag_features['weight'].to_numpy()\n",
    "array_labels = df_merge_tag_features['name'].to_numpy()"
   ]
  },
  {
   "cell_type": "code",
   "execution_count": 23,
   "metadata": {
    "tags": [
     "outputPrepend"
    ]
   },
   "outputs": [
    {
     "output_type": "stream",
     "name": "stdout",
     "text": "1       194\n128  0.000024         Spiel: Der Kaiser mag...             218       194\n127  0.000027              Naturbilder basteln             217       194\n98   0.000027                Luftballonstaffel             162       194\n129  0.000029                       Naturbingo             219       194\n119  0.000032   Pfadfinder*innen ohne Plastik?             200       194\n117  0.000034         Eigene Löffel schnitzen!             198       194\n131  0.000036                  Wasserdetektive             221       194\n102  0.000037                     Kerzendrehen             173       194\n126  0.000038                Ich male ein Bild             216       194\n97   0.000039             Kerzenwachs recyceln             161       194\n130  0.000040  Upcycling - Reisespiele basteln             220       194\n        score                              title  event_score_id  event_id\n133  0.000026                    Pappteller-Golf             223       198\n132  0.000027                    Die Verwandlung             222       198\n102  0.000028                       Kerzendrehen             173       198\n128  0.000029           Spiel: Der Kaiser mag...             218       198\n120  0.000033                       Lichtmalerei             201       198\n97   0.000033               Kerzenwachs recyceln             161       198\n116  0.000034  Fahrrad-Geschicklichkeits-Parkour             194       198\n119  0.000036     Pfadfinder*innen ohne Plastik?             200       198\n124  0.000039                        Traumkapsel             205       198\n95   0.000040              Pfeil und Bogen bauen             158       198\n79   0.000041          Minigolfbahn selber bauen             139       198\n83   0.000041            Rucksack richtig packen             145       198\n122  0.000041         Gruppenstunde als Talkshow             203       198\n126  0.000042                  Ich male ein Bild             216       198\n        score                            title  event_score_id  event_id\n121  0.000020                Finde nach Hause!             202       199\n130  0.000023  Upcycling - Reisespiele basteln             220       199\n101  0.000030                 Digitale Karten?             165       199\n102  0.000042                     Kerzendrehen             173       199\n120  0.000043                     Lichtmalerei             201       199\n115  0.000045             Morsen online lernen             187       199\n71   0.000045       Behelfs-Schutzmasken nähen             131       199\n128  0.000046         Spiel: Der Kaiser mag...             218       199\n97   0.000048             Kerzenwachs recyceln             161       199\n124  0.000049                      Traumkapsel             205       199\n107  0.000049        Schnitzeljagd mit Abstand             179       199\n110  0.000050             Hummus selbstgemacht             182       199\n132  0.000050                  Die Verwandlung             222       199\n133  0.000051                  Pappteller-Golf             223       199\n        score                              title  event_score_id  event_id\n129  0.000018                         Naturbingo             219       200\n127  0.000023                Naturbilder basteln             217       200\n131  0.000025                    Wasserdetektive             221       200\n132  0.000025                    Die Verwandlung             222       200\n128  0.000028           Spiel: Der Kaiser mag...             218       200\n133  0.000030                    Pappteller-Golf             223       200\n125  0.000030    Unser Lagerplatz in der Zukunft             206       200\n116  0.000032  Fahrrad-Geschicklichkeits-Parkour             194       200\n120  0.000032                       Lichtmalerei             201       200\n83   0.000033            Rucksack richtig packen             145       200\n117  0.000036           Eigene Löffel schnitzen!             198       200\n102  0.000037                       Kerzendrehen             173       200\n130  0.000037    Upcycling - Reisespiele basteln             220       200\n97   0.000038               Kerzenwachs recyceln             161       200\n        score                              title  event_score_id  event_id\n132  0.000011                    Die Verwandlung             222       201\n102  0.000011                       Kerzendrehen             173       201\n133  0.000015                    Pappteller-Golf             223       201\n128  0.000015           Spiel: Der Kaiser mag...             218       201\n126  0.000018                  Ich male ein Bild             216       201\n100  0.000018                         Sockengolf             164       201\n124  0.000020                        Traumkapsel             205       201\n116  0.000023  Fahrrad-Geschicklichkeits-Parkour             194       201\n98   0.000023                  Luftballonstaffel             162       201\n97   0.000026               Kerzenwachs recyceln             161       201\n130  0.000027    Upcycling - Reisespiele basteln             220       201\n106  0.000029                    Briefe an Felix             178       201\n119  0.000032     Pfadfinder*innen ohne Plastik?             200       201\n127  0.000033                Naturbilder basteln             217       201\n        score                              title  event_score_id  event_id\n118  0.000020              Pfadfinder-Planzeiger             199       202\n130  0.000030    Upcycling - Reisespiele basteln             220       202\n128  0.000034           Spiel: Der Kaiser mag...             218       202\n101  0.000038                   Digitale Karten?             165       202\n133  0.000039                    Pappteller-Golf             223       202\n107  0.000040          Schnitzeljagd mit Abstand             179       202\n132  0.000044                    Die Verwandlung             222       202\n108  0.000046       Online Treffen (gather-town)             180       202\n105  0.000046             Online-Spieleplattform             177       202\n115  0.000047               Morsen online lernen             187       202\n129  0.000049                         Naturbingo             219       202\n120  0.000049                       Lichtmalerei             201       202\n131  0.000050                    Wasserdetektive             221       202\n116  0.000052  Fahrrad-Geschicklichkeits-Parkour             194       202\n        score                                   title  event_score_id  event_id\n113  0.000021              Wölflingsregeln besprechen             185       203\n125  0.000022         Unser Lagerplatz in der Zukunft             206       203\n124  0.000023                             Traumkapsel             205       203\n128  0.000029                Spiel: Der Kaiser mag...             218       203\n112  0.000030  Welche Pfadfinder-Regel ist unwichtig?             184       203\n102  0.000031                            Kerzendrehen             173       203\n120  0.000035                            Lichtmalerei             201       203\n132  0.000036                         Die Verwandlung             222       203\n133  0.000037                         Pappteller-Golf             223       203\n98   0.000038                       Luftballonstaffel             162       203\n104  0.000040                          Digitales Tabu             176       203\n90   0.000040                Lieblingsbuch vorstellen             152       203\n117  0.000041                Eigene Löffel schnitzen!             198       203\n103  0.000042               Sippenvergleich - digital             175       203\n        score                                   title  event_score_id  event_id\n119  0.000092          Pfadfinder*innen ohne Plastik?             200       204\n124  0.000092                             Traumkapsel             205       204\n125  0.000095         Unser Lagerplatz in der Zukunft             206       204\n111  0.000097         Weisheiten diskutieren (Zitate)             183       204\n122  0.000098              Gruppenstunde als Talkshow             203       204\n128  0.000099                Spiel: Der Kaiser mag...             218       204\n102  0.000099                            Kerzendrehen             173       204\n86   0.000100              Eigenes Hörspiel aufnehmen             148       204\n120  0.000100                            Lichtmalerei             201       204\n88   0.000101            Knoten mit Lakritz-Schnecken             150       204\n112  0.000101  Welche Pfadfinder-Regel ist unwichtig?             184       204\n131  0.000102                         Wasserdetektive             221       204\n110  0.000105                    Hummus selbstgemacht             182       204\n118  0.000105                   Pfadfinder-Planzeiger             199       204\n        score                            title  event_score_id  event_id\n102  0.000017                     Kerzendrehen             173       205\n120  0.000020                     Lichtmalerei             201       205\n122  0.000023       Gruppenstunde als Talkshow             203       205\n128  0.000025         Spiel: Der Kaiser mag...             218       205\n106  0.000027                  Briefe an Felix             178       205\n126  0.000029                Ich male ein Bild             216       205\n132  0.000030                  Die Verwandlung             222       205\n133  0.000030                  Pappteller-Golf             223       205\n98   0.000034                Luftballonstaffel             162       205\n130  0.000034  Upcycling - Reisespiele basteln             220       205\n104  0.000034                   Digitales Tabu             176       205\n97   0.000034             Kerzenwachs recyceln             161       205\n100  0.000038                       Sockengolf             164       205\n90   0.000038         Lieblingsbuch vorstellen             152       205\n        score                                   title  event_score_id  event_id\n122  0.000022              Gruppenstunde als Talkshow             203       206\n119  0.000030          Pfadfinder*innen ohne Plastik?             200       206\n113  0.000038              Wölflingsregeln besprechen             185       206\n127  0.000042                     Naturbilder basteln             217       206\n124  0.000044                             Traumkapsel             205       206\n131  0.000045                         Wasserdetektive             221       206\n129  0.000045                              Naturbingo             219       206\n132  0.000046                         Die Verwandlung             222       206\n128  0.000046                Spiel: Der Kaiser mag...             218       206\n112  0.000047  Welche Pfadfinder-Regel ist unwichtig?             184       206\n133  0.000048                         Pappteller-Golf             223       206\n116  0.000051       Fahrrad-Geschicklichkeits-Parkour             194       206\n120  0.000053                            Lichtmalerei             201       206\n102  0.000054                            Kerzendrehen             173       206\n        score                            title  event_score_id  event_id\n106  0.000012                  Briefe an Felix             178       216\n100  0.000013                       Sockengolf             164       216\n120  0.000018                     Lichtmalerei             201       216\n128  0.000019         Spiel: Der Kaiser mag...             218       216\n132  0.000022                  Die Verwandlung             222       216\n89   0.000025          Rettet das fallende Ei!             151       216\n115  0.000026             Morsen online lernen             187       216\n102  0.000027                     Kerzendrehen             173       216\n105  0.000027           Online-Spieleplattform             177       216\n133  0.000027                  Pappteller-Golf             223       216\n124  0.000029                      Traumkapsel             205       216\n130  0.000030  Upcycling - Reisespiele basteln             220       216\n71   0.000031       Behelfs-Schutzmasken nähen             131       216\n108  0.000032     Online Treffen (gather-town)             180       216\n        score                              title  event_score_id  event_id\n129  0.000010                         Naturbingo             219       217\n131  0.000016                    Wasserdetektive             221       217\n119  0.000023     Pfadfinder*innen ohne Plastik?             200       217\n132  0.000024                    Die Verwandlung             222       217\n133  0.000026                    Pappteller-Golf             223       217\n116  0.000027  Fahrrad-Geschicklichkeits-Parkour             194       217\n120  0.000033                       Lichtmalerei             201       217\n128  0.000035           Spiel: Der Kaiser mag...             218       217\n98   0.000040                  Luftballonstaffel             162       217\n97   0.000040               Kerzenwachs recyceln             161       217\n125  0.000042    Unser Lagerplatz in der Zukunft             206       217\n117  0.000045           Eigene Löffel schnitzen!             198       217\n126  0.000045                  Ich male ein Bild             216       217\n102  0.000046                       Kerzendrehen             173       217\n        score                              title  event_score_id  event_id\n133  0.000009                    Pappteller-Golf             223       218\n132  0.000012                    Die Verwandlung             222       218\n120  0.000015                       Lichtmalerei             201       218\n126  0.000019                  Ich male ein Bild             216       218\n113  0.000020         Wölflingsregeln besprechen             185       218\n83   0.000021            Rucksack richtig packen             145       218\n102  0.000021                       Kerzendrehen             173       218\n98   0.000022                  Luftballonstaffel             162       218\n116  0.000024  Fahrrad-Geschicklichkeits-Parkour             194       218\n130  0.000025    Upcycling - Reisespiele basteln             220       218\n124  0.000025                        Traumkapsel             205       218\n119  0.000028     Pfadfinder*innen ohne Plastik?             200       218\n131  0.000028                    Wasserdetektive             221       218\n122  0.000029         Gruppenstunde als Talkshow             203       218\n        score                              title  event_score_id  event_id\n127  0.000010                Naturbilder basteln             217       219\n119  0.000018     Pfadfinder*innen ohne Plastik?             200       219\n131  0.000024                    Wasserdetektive             221       219\n132  0.000024                    Die Verwandlung             222       219\n133  0.000027                    Pappteller-Golf             223       219\n116  0.000029  Fahrrad-Geschicklichkeits-Parkour             194       219\n120  0.000034                       Lichtmalerei             201       219\n128  0.000036           Spiel: Der Kaiser mag...             218       219\n98   0.000040                  Luftballonstaffel             162       219\n117  0.000044           Eigene Löffel schnitzen!             198       219\n102  0.000044                       Kerzendrehen             173       219\n130  0.000045    Upcycling - Reisespiele basteln             220       219\n125  0.000045    Unser Lagerplatz in der Zukunft             206       219\n126  0.000046                  Ich male ein Bild             216       219\n        score                         title  event_score_id  event_id\n118  0.000023         Pfadfinder-Planzeiger             199       220\n128  0.000025      Spiel: Der Kaiser mag...             218       220\n120  0.000027                  Lichtmalerei             201       220\n132  0.000029               Die Verwandlung             222       220\n102  0.000029                  Kerzendrehen             173       220\n126  0.000030             Ich male ein Bild             216       220\n121  0.000030             Finde nach Hause!             202       220\n71   0.000030    Behelfs-Schutzmasken nähen             131       220\n110  0.000030          Hummus selbstgemacht             182       220\n133  0.000031               Pappteller-Golf             223       220\n105  0.000031        Online-Spieleplattform             177       220\n115  0.000031          Morsen online lernen             187       220\n124  0.000034                   Traumkapsel             205       220\n108  0.000034  Online Treffen (gather-town)             180       220\n        score                              title  event_score_id  event_id\n127  0.000016                Naturbilder basteln             217       221\n129  0.000024                         Naturbingo             219       221\n119  0.000025     Pfadfinder*innen ohne Plastik?             200       221\n133  0.000026                    Pappteller-Golf             223       221\n128  0.000028           Spiel: Der Kaiser mag...             218       221\n132  0.000030                    Die Verwandlung             222       221\n116  0.000036  Fahrrad-Geschicklichkeits-Parkour             194       221\n120  0.000040                       Lichtmalerei             201       221\n98   0.000042                  Luftballonstaffel             162       221\n113  0.000044         Wölflingsregeln besprechen             185       221\n97   0.000044               Kerzenwachs recyceln             161       221\n125  0.000045    Unser Lagerplatz in der Zukunft             206       221\n126  0.000045                  Ich male ein Bild             216       221\n117  0.000046           Eigene Löffel schnitzen!             198       221\n        score                              title  event_score_id  event_id\n133  0.000005                    Pappteller-Golf             223       222\n120  0.000011                       Lichtmalerei             201       222\n128  0.000012           Spiel: Der Kaiser mag...             218       222\n116  0.000013  Fahrrad-Geschicklichkeits-Parkour             194       222\n126  0.000022                  Ich male ein Bild             216       222\n127  0.000024                Naturbilder basteln             217       222\n129  0.000024                         Naturbingo             219       222\n98   0.000025                  Luftballonstaffel             162       222\n102  0.000025                       Kerzendrehen             173       222\n119  0.000025     Pfadfinder*innen ohne Plastik?             200       222\n117  0.000027           Eigene Löffel schnitzen!             198       222\n100  0.000027                         Sockengolf             164       222\n130  0.000029    Upcycling - Reisespiele basteln             220       222\n97   0.000030               Kerzenwachs recyceln             161       222\n        score                              title  event_score_id  event_id\n132  0.000005                    Die Verwandlung             222       223\n128  0.000009           Spiel: Der Kaiser mag...             218       223\n120  0.000015                       Lichtmalerei             201       223\n116  0.000018  Fahrrad-Geschicklichkeits-Parkour             194       223\n98   0.000022                  Luftballonstaffel             162       223\n102  0.000026                       Kerzendrehen             173       223\n117  0.000026           Eigene Löffel schnitzen!             198       223\n127  0.000026                Naturbilder basteln             217       223\n131  0.000026                    Wasserdetektive             221       223\n129  0.000027                         Naturbingo             219       223\n126  0.000027                  Ich male ein Bild             216       223\n113  0.000028         Wölflingsregeln besprechen             185       223\n119  0.000030     Pfadfinder*innen ohne Plastik?             200       223\n124  0.000030                        Traumkapsel             205       223\n"
    },
    {
     "output_type": "error",
     "ename": "IndexError",
     "evalue": "list index out of range",
     "traceback": [
      "\u001b[0;31m---------------------------------------------------------------------------\u001b[0m",
      "\u001b[0;31mIndexError\u001b[0m                                Traceback (most recent call last)",
      "\u001b[0;32m<ipython-input-23-c8002c91dc14>\u001b[0m in \u001b[0;36m<module>\u001b[0;34m\u001b[0m\n\u001b[1;32m     19\u001b[0m     \u001b[0mfeature_list\u001b[0m \u001b[0;34m=\u001b[0m \u001b[0mdf_feature_vector\u001b[0m\u001b[0;34m[\u001b[0m\u001b[0marray_labels\u001b[0m\u001b[0;34m]\u001b[0m\u001b[0;34m.\u001b[0m\u001b[0mvalues\u001b[0m\u001b[0;34m.\u001b[0m\u001b[0mtolist\u001b[0m\u001b[0;34m(\u001b[0m\u001b[0;34m)\u001b[0m\u001b[0;34m\u001b[0m\u001b[0;34m\u001b[0m\u001b[0m\n\u001b[1;32m     20\u001b[0m \u001b[0;34m\u001b[0m\u001b[0m\n\u001b[0;32m---> 21\u001b[0;31m     \u001b[0mary_1\u001b[0m \u001b[0;34m=\u001b[0m \u001b[0mfeature_list\u001b[0m\u001b[0;34m[\u001b[0m\u001b[0mheimabend_index\u001b[0m\u001b[0;34m]\u001b[0m\u001b[0;34m\u001b[0m\u001b[0;34m\u001b[0m\u001b[0m\n\u001b[0m\u001b[1;32m     22\u001b[0m \u001b[0;34m\u001b[0m\u001b[0m\n\u001b[1;32m     23\u001b[0m     \u001b[0mfeature_ary\u001b[0m \u001b[0;34m=\u001b[0m \u001b[0;34m[\u001b[0m\u001b[0;34m]\u001b[0m\u001b[0;34m\u001b[0m\u001b[0;34m\u001b[0m\u001b[0m\n",
      "\u001b[0;31mIndexError\u001b[0m: list index out of range"
     ]
    }
   ],
   "source": [
    "heimabend_index = 5\n",
    "\n",
    "for heimabend_index in range(1, 200):\n",
    "    db = create_engine('sqlite:////Users/rob/Documents/privat/Pfadfinder/Inspirator/source_code/heimabend/backend/heimabend/db.sqlite3')\n",
    "\n",
    "    df_tag = pd.read_parquet('data/tag.parquet')\n",
    "    df_tag = df_tag[['name', 'category_id']]\n",
    "    df_tag['weight'] = df_tag['category_id'].apply(lambda x: 3 if x == 9 else 0.1 if x == 1 else 1)\n",
    "\n",
    "    df_feature_vector = pd.read_parquet('data/feature_vector_num.parquet')\n",
    "    df_feature_vector_with_text = pd.read_parquet('data/feature_vector.parquet')\n",
    "\n",
    "    array_labels = df_feature_vector.columns.to_list()\n",
    "\n",
    "    df_feature_vector_with_text['index'] = df_feature_vector_with_text.index\n",
    "    title_array = df_feature_vector_with_text[['id', 'title']]\n",
    "    title_list = title_array.values.tolist()\n",
    "\n",
    "    feature_list = df_feature_vector[array_labels].values.tolist()\n",
    "\n",
    "    ary_1 = feature_list[heimabend_index]\n",
    "\n",
    "    feature_ary = []\n",
    "    for index, element in enumerate(feature_list):\n",
    "        score_cosine = distance.cosine(ary_1, element, weight)\n",
    "        feature_ary.append([score_cosine])\n",
    "\n",
    "    df_1 = pd.DataFrame(feature_ary, columns=['score'])\n",
    "    df_2 = pd.DataFrame(title_list, columns=['event_score_id', 'title'])\n",
    "    df = pd.concat([df_1, df_2], axis=1,).sort_values(by=['score']).iloc[1:15]\n",
    "    df['event_id'] = df_feature_vector_with_text.iloc[heimabend_index]['id']\n",
    "    df[['event_id', 'event_score_id', 'score']].to_sql('basic_nextbestheimabend', con=db, if_exists='append', index=False)\n",
    "    print(df[['score', 'title', 'event_score_id', 'event_id']])"
   ]
  },
  {
   "cell_type": "code",
   "execution_count": null,
   "metadata": {},
   "outputs": [],
   "source": []
  }
 ]
}