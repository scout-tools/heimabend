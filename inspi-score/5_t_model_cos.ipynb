{
 "metadata": {
  "language_info": {
   "codemirror_mode": {
    "name": "ipython",
    "version": 3
   },
   "file_extension": ".py",
   "mimetype": "text/x-python",
   "name": "python",
   "nbconvert_exporter": "python",
   "pygments_lexer": "ipython3",
   "version": "3.8.3-final"
  },
  "orig_nbformat": 2,
  "kernelspec": {
   "name": "python3",
   "display_name": "Python 3"
  }
 },
 "nbformat": 4,
 "nbformat_minor": 2,
 "cells": [
  {
   "cell_type": "code",
   "execution_count": 116,
   "metadata": {},
   "outputs": [],
   "source": [
    "import pandas as pd\n",
    "from scipy.spatial import distance\n",
    "from sqlalchemy import create_engine\n",
    "\n",
    "pd.set_option('display.max_rows', 500)\n",
    "pd.set_option('display.max_columns', 500)\n",
    "pd.set_option('display.width', 1000)"
   ]
  },
  {
   "cell_type": "code",
   "execution_count": 117,
   "metadata": {},
   "outputs": [],
   "source": [
    "import os\n",
    "\n",
    "import pymysql\n",
    "import pandas as pd\n",
    "\n",
    "from sqlalchemy import create_engine\n",
    "from dotenv import load_dotenv\n"
   ]
  },
  {
   "cell_type": "code",
   "execution_count": 118,
   "metadata": {},
   "outputs": [
    {
     "output_type": "execute_result",
     "data": {
      "text/plain": "True"
     },
     "metadata": {},
     "execution_count": 118
    }
   ],
   "source": [
    "# setup env\n",
    "load_dotenv()"
   ]
  },
  {
   "cell_type": "code",
   "execution_count": 119,
   "metadata": {},
   "outputs": [
    {
     "output_type": "execute_result",
     "data": {
      "text/plain": "(134, 80)"
     },
     "metadata": {},
     "execution_count": 119
    }
   ],
   "source": [
    "df_feature_vector = pd.read_parquet('data/feature_vector_num.parquet')\n",
    "df_feature_vector_with_text = pd.read_parquet('data/feature_vector.parquet')\n",
    "df_tag = pd.read_parquet('data/tag.parquet')\n",
    "df_feature_vector_with_text.shape"
   ]
  },
  {
   "cell_type": "code",
   "execution_count": 120,
   "metadata": {},
   "outputs": [],
   "source": [
    "# setup db\n",
    "user = os.getenv('RDS_USERNAME')\n",
    "password = os.getenv('RDS_PASSWORD')\n",
    "host = os.getenv('RDS_HOSTNAME')\n",
    "db = os.getenv('RDS_DB_NAME')\n",
    "port = os.getenv('RDS_PORT')\n",
    "\n",
    "db_string = \"postgresql://{}:{}@{}:{}/{}\".format(user,password,host,port,db)\n",
    "sqlEngine = create_engine(db_string)"
   ]
  },
  {
   "cell_type": "code",
   "execution_count": 121,
   "metadata": {},
   "outputs": [],
   "source": [
    "df_tag = pd.read_parquet('data/tag.parquet')\n",
    "df_tag = df_tag[['name', 'category_id']]\n",
    "df_tag['weight'] = df_tag['category_id'].apply(lambda x: 3 if x == 9 else 0.3 if x == 1 else 1)"
   ]
  },
  {
   "cell_type": "code",
   "execution_count": 122,
   "metadata": {},
   "outputs": [],
   "source": [
    "df_all_features = pd.DataFrame(df_feature_vector.columns.to_list(), columns=['name'])"
   ]
  },
  {
   "cell_type": "code",
   "execution_count": 123,
   "metadata": {},
   "outputs": [],
   "source": [
    "df_merge_tag_features = pd.merge(df_tag, df_all_features, on='name')\n",
    "\n",
    "allFeatures = df_feature_vector.columns.to_list()\n",
    "df_name = df_merge_tag_features['name']\n",
    "\n",
    "for i in df_name.to_numpy():\n",
    "    allFeatures.remove(i)\n",
    "\n",
    "for i in allFeatures:\n",
    "    df_merge_tag_features = df_merge_tag_features.append({'name': i, 'weight': 0.3}, ignore_index=True)\n",
    "\n",
    "array = df_feature_vector.columns.to_list()\n",
    "array.remove('id')\n",
    "array.remove('Mit Abstand')\n",
    "array.remove('Videokonferenz')\n",
    "array.remove('Pfadfinder')\n",
    "array.remove('Rover')\n",
    "\n",
    "weight = df_merge_tag_features['weight'].to_numpy()\n",
    "array_labels = df_merge_tag_features['name'].to_numpy()"
   ]
  },
  {
   "cell_type": "code",
   "execution_count": 107,
   "metadata": {},
   "outputs": [
    {
     "output_type": "execute_result",
     "data": {
      "text/plain": "134"
     },
     "metadata": {},
     "execution_count": 107
    }
   ],
   "source": []
  },
  {
   "cell_type": "code",
   "execution_count": 124,
   "metadata": {
    "tags": [
     "outputPrepend"
    ]
   },
   "outputs": [
    {
     "output_type": "stream",
     "name": "stdout",
     "text": "pcycling - Reisespiele basteln             220       194\n102  0.000044                     Kerzendrehen             173       194\n113  0.000046       Wölflingsregeln besprechen             185       194\nheimabend_index\n117\nheimabend_index\n        score                              title  event_score_id  event_id\n133  0.000032                    Pappteller-Golf             223       198\n132  0.000033                    Die Verwandlung             222       198\n102  0.000034                       Kerzendrehen             173       198\n128  0.000035           Spiel: Der Kaiser mag...             218       198\n120  0.000037                       Lichtmalerei             201       198\n116  0.000039  Fahrrad-Geschicklichkeits-Parkour             194       198\n119  0.000041     Pfadfinder*innen ohne Plastik?             200       198\n97   0.000042               Kerzenwachs recyceln             161       198\n124  0.000045                        Traumkapsel             205       198\n122  0.000047         Gruppenstunde als Talkshow             203       198\n126  0.000047                  Ich male ein Bild             216       198\n95   0.000047              Pfeil und Bogen bauen             158       198\n129  0.000047                         Naturbingo             219       198\n113  0.000048         Wölflingsregeln besprechen             185       198\nheimabend_index\n118\nheimabend_index\n        score                            title  event_score_id  event_id\n121  0.000025                Finde nach Hause!             202       199\n130  0.000026  Upcycling - Reisespiele basteln             220       199\n101  0.000032                 Digitale Karten?             165       199\n102  0.000046                     Kerzendrehen             173       199\n115  0.000047             Morsen online lernen             187       199\n120  0.000048                     Lichtmalerei             201       199\n124  0.000052                      Traumkapsel             205       199\n71   0.000052       Behelfs-Schutzmasken nähen             131       199\n110  0.000052             Hummus selbstgemacht             182       199\n128  0.000053         Spiel: Der Kaiser mag...             218       199\n97   0.000054             Kerzenwachs recyceln             161       199\n126  0.000056                Ich male ein Bild             216       199\n133  0.000057                  Pappteller-Golf             223       199\n107  0.000057        Schnitzeljagd mit Abstand             179       199\nheimabend_index\n119\nheimabend_index\n        score                              title  event_score_id  event_id\n129  0.000021                         Naturbingo             219       200\n127  0.000027                Naturbilder basteln             217       200\n131  0.000029                    Wasserdetektive             221       200\n132  0.000029                    Die Verwandlung             222       200\n128  0.000032           Spiel: Der Kaiser mag...             218       200\n125  0.000033    Unser Lagerplatz in der Zukunft             206       200\n120  0.000034                       Lichtmalerei             201       200\n133  0.000034                    Pappteller-Golf             223       200\n116  0.000036  Fahrrad-Geschicklichkeits-Parkour             194       200\n117  0.000041           Eigene Löffel schnitzen!             198       200\n102  0.000042                       Kerzendrehen             173       200\n126  0.000042                  Ich male ein Bild             216       200\n130  0.000043    Upcycling - Reisespiele basteln             220       200\n83   0.000044            Rucksack richtig packen             145       200\nheimabend_index\n120\nheimabend_index\n        score                              title  event_score_id  event_id\n132  0.000014                    Die Verwandlung             222       201\n102  0.000015                       Kerzendrehen             173       201\n128  0.000019           Spiel: Der Kaiser mag...             218       201\n133  0.000019                    Pappteller-Golf             223       201\n126  0.000020                  Ich male ein Bild             216       201\n124  0.000025                        Traumkapsel             205       201\n100  0.000025                         Sockengolf             164       201\n98   0.000027                  Luftballonstaffel             162       201\n116  0.000027  Fahrrad-Geschicklichkeits-Parkour             194       201\n97   0.000032               Kerzenwachs recyceln             161       201\n130  0.000032    Upcycling - Reisespiele basteln             220       201\n119  0.000034     Pfadfinder*innen ohne Plastik?             200       201\n106  0.000037                    Briefe an Felix             178       201\n117  0.000037           Eigene Löffel schnitzen!             198       201\nheimabend_index\n121\nheimabend_index\n        score                              title  event_score_id  event_id\n118  0.000025              Pfadfinder-Planzeiger             199       202\n130  0.000033    Upcycling - Reisespiele basteln             220       202\n128  0.000036           Spiel: Der Kaiser mag...             218       202\n107  0.000042          Schnitzeljagd mit Abstand             179       202\n133  0.000042                    Pappteller-Golf             223       202\n101  0.000043                   Digitale Karten?             165       202\n132  0.000047                    Die Verwandlung             222       202\n129  0.000050                         Naturbingo             219       202\n120  0.000052                       Lichtmalerei             201       202\n116  0.000053  Fahrrad-Geschicklichkeits-Parkour             194       202\n131  0.000053                    Wasserdetektive             221       202\n108  0.000053       Online Treffen (gather-town)             180       202\n115  0.000054               Morsen online lernen             187       202\n105  0.000054             Online-Spieleplattform             177       202\nheimabend_index\n122\nheimabend_index\n        score                                   title  event_score_id  event_id\n125  0.000022         Unser Lagerplatz in der Zukunft             206       203\n124  0.000026                             Traumkapsel             205       203\n113  0.000027              Wölflingsregeln besprechen             185       203\n112  0.000033  Welche Pfadfinder-Regel ist unwichtig?             184       203\n128  0.000033                Spiel: Der Kaiser mag...             218       203\n102  0.000036                            Kerzendrehen             173       203\n120  0.000041                            Lichtmalerei             201       203\n132  0.000042                         Die Verwandlung             222       203\n133  0.000043                         Pappteller-Golf             223       203\n98   0.000044                       Luftballonstaffel             162       203\n90   0.000045                Lieblingsbuch vorstellen             152       203\n104  0.000045                          Digitales Tabu             176       203\n126  0.000045                       Ich male ein Bild             216       203\n117  0.000047                Eigene Löffel schnitzen!             198       203\nheimabend_index\n123\nheimabend_index\n        score                                   title  event_score_id  event_id\n119  0.000096          Pfadfinder*innen ohne Plastik?             200       204\n124  0.000097                             Traumkapsel             205       204\n125  0.000099         Unser Lagerplatz in der Zukunft             206       204\n128  0.000100                Spiel: Der Kaiser mag...             218       204\n111  0.000102         Weisheiten diskutieren (Zitate)             183       204\n122  0.000103              Gruppenstunde als Talkshow             203       204\n112  0.000106  Welche Pfadfinder-Regel ist unwichtig?             184       204\n120  0.000106                            Lichtmalerei             201       204\n131  0.000107                         Wasserdetektive             221       204\n88   0.000107            Knoten mit Lakritz-Schnecken             150       204\n86   0.000108              Eigenes Hörspiel aufnehmen             148       204\n102  0.000109                            Kerzendrehen             173       204\n103  0.000110               Sippenvergleich - digital             175       204\n127  0.000110                     Naturbilder basteln             217       204\nheimabend_index\n124\nheimabend_index\n        score                            title  event_score_id  event_id\n102  0.000023                     Kerzendrehen             173       205\n120  0.000025                     Lichtmalerei             201       205\n122  0.000026       Gruppenstunde als Talkshow             203       205\n128  0.000028         Spiel: Der Kaiser mag...             218       205\n126  0.000031                Ich male ein Bild             216       205\n106  0.000032                  Briefe an Felix             178       205\n133  0.000034                  Pappteller-Golf             223       205\n132  0.000035                  Die Verwandlung             222       205\n130  0.000036  Upcycling - Reisespiele basteln             220       205\n104  0.000038                   Digitales Tabu             176       205\n98   0.000038                Luftballonstaffel             162       205\n97   0.000039             Kerzenwachs recyceln             161       205\n90   0.000041         Lieblingsbuch vorstellen             152       205\n100  0.000042                       Sockengolf             164       205\nheimabend_index\n125\nheimabend_index\n        score                                   title  event_score_id  event_id\n122  0.000022              Gruppenstunde als Talkshow             203       206\n119  0.000033          Pfadfinder*innen ohne Plastik?             200       206\n113  0.000043              Wölflingsregeln besprechen             185       206\n124  0.000046                             Traumkapsel             205       206\n127  0.000048                     Naturbilder basteln             217       206\n129  0.000050                              Naturbingo             219       206\n128  0.000050                Spiel: Der Kaiser mag...             218       206\n131  0.000050                         Wasserdetektive             221       206\n132  0.000051                         Die Verwandlung             222       206\n112  0.000051  Welche Pfadfinder-Regel ist unwichtig?             184       206\n133  0.000054                         Pappteller-Golf             223       206\n116  0.000055       Fahrrad-Geschicklichkeits-Parkour             194       206\n120  0.000058                            Lichtmalerei             201       206\n102  0.000059                            Kerzendrehen             173       206\nheimabend_index\n126\nheimabend_index\n        score                            title  event_score_id  event_id\n106  0.000016                  Briefe an Felix             178       216\n100  0.000020                       Sockengolf             164       216\n120  0.000020                     Lichtmalerei             201       216\n128  0.000021         Spiel: Der Kaiser mag...             218       216\n132  0.000025                  Die Verwandlung             222       216\n133  0.000031                  Pappteller-Golf             223       216\n124  0.000031                      Traumkapsel             205       216\n105  0.000031           Online-Spieleplattform             177       216\n115  0.000032             Morsen online lernen             187       216\n102  0.000032                     Kerzendrehen             173       216\n130  0.000034  Upcycling - Reisespiele basteln             220       216\n108  0.000035     Online Treffen (gather-town)             180       216\n111  0.000035  Weisheiten diskutieren (Zitate)             183       216\n90   0.000036         Lieblingsbuch vorstellen             152       216\nheimabend_index\n127\nheimabend_index\n        score                              title  event_score_id  event_id\n129  0.000014                         Naturbingo             219       217\n131  0.000017                    Wasserdetektive             221       217\n132  0.000026                    Die Verwandlung             222       217\n119  0.000027     Pfadfinder*innen ohne Plastik?             200       217\n133  0.000028                    Pappteller-Golf             223       217\n116  0.000031  Fahrrad-Geschicklichkeits-Parkour             194       217\n120  0.000038                       Lichtmalerei             201       217\n128  0.000039           Spiel: Der Kaiser mag...             218       217\n125  0.000048    Unser Lagerplatz in der Zukunft             206       217\n97   0.000048               Kerzenwachs recyceln             161       217\n98   0.000049                  Luftballonstaffel             162       217\n117  0.000049           Eigene Löffel schnitzen!             198       217\n126  0.000050                  Ich male ein Bild             216       217\n124  0.000055                        Traumkapsel             205       217\nheimabend_index\n128\nheimabend_index\n        score                              title  event_score_id  event_id\n133  0.000011                    Pappteller-Golf             223       218\n132  0.000014                    Die Verwandlung             222       218\n120  0.000019                       Lichtmalerei             201       218\n126  0.000021                  Ich male ein Bild             216       218\n113  0.000024         Wölflingsregeln besprechen             185       218\n116  0.000027  Fahrrad-Geschicklichkeits-Parkour             194       218\n130  0.000027    Upcycling - Reisespiele basteln             220       218\n98   0.000028                  Luftballonstaffel             162       218\n83   0.000028            Rucksack richtig packen             145       218\n124  0.000028                        Traumkapsel             205       218\n102  0.000029                       Kerzendrehen             173       218\n103  0.000031          Sippenvergleich - digital             175       218\n104  0.000031                     Digitales Tabu             176       218\n119  0.000032     Pfadfinder*innen ohne Plastik?             200       218\nheimabend_index\n129\nheimabend_index\n        score                              title  event_score_id  event_id\n127  0.000014                Naturbilder basteln             217       219\n119  0.000021     Pfadfinder*innen ohne Plastik?             200       219\n132  0.000026                    Die Verwandlung             222       219\n131  0.000028                    Wasserdetektive             221       219\n133  0.000029                    Pappteller-Golf             223       219\n116  0.000031  Fahrrad-Geschicklichkeits-Parkour             194       219\n120  0.000038                       Lichtmalerei             201       219\n128  0.000038           Spiel: Der Kaiser mag...             218       219\n98   0.000046                  Luftballonstaffel             162       219\n117  0.000047           Eigene Löffel schnitzen!             198       219\n130  0.000048    Upcycling - Reisespiele basteln             220       219\n125  0.000050    Unser Lagerplatz in der Zukunft             206       219\n126  0.000050                  Ich male ein Bild             216       219\n121  0.000050                  Finde nach Hause!             202       219\nheimabend_index\n130\nheimabend_index\n        score                         title  event_score_id  event_id\n118  0.000026         Pfadfinder-Planzeiger             199       220\n128  0.000027      Spiel: Der Kaiser mag...             218       220\n132  0.000031               Die Verwandlung             222       220\n120  0.000032                  Lichtmalerei             201       220\n133  0.000033               Pappteller-Golf             223       220\n110  0.000033          Hummus selbstgemacht             182       220\n121  0.000033             Finde nach Hause!             202       220\n126  0.000034             Ich male ein Bild             216       220\n102  0.000035                  Kerzendrehen             173       220\n105  0.000035        Online-Spieleplattform             177       220\n124  0.000036                   Traumkapsel             205       220\n115  0.000037          Morsen online lernen             187       220\n108  0.000038  Online Treffen (gather-town)             180       220\n71   0.000040    Behelfs-Schutzmasken nähen             131       220\nheimabend_index\n131\nheimabend_index\n        score                              title  event_score_id  event_id\n127  0.000017                Naturbilder basteln             217       221\n129  0.000028                         Naturbingo             219       221\n133  0.000029                    Pappteller-Golf             223       221\n119  0.000029     Pfadfinder*innen ohne Plastik?             200       221\n128  0.000033           Spiel: Der Kaiser mag...             218       221\n132  0.000033                    Die Verwandlung             222       221\n116  0.000039  Fahrrad-Geschicklichkeits-Parkour             194       221\n120  0.000044                       Lichtmalerei             201       221\n113  0.000045         Wölflingsregeln besprechen             185       221\n117  0.000049           Eigene Löffel schnitzen!             198       221\n126  0.000049                  Ich male ein Bild             216       221\n98   0.000050                  Luftballonstaffel             162       221\n125  0.000050    Unser Lagerplatz in der Zukunft             206       221\n121  0.000053                  Finde nach Hause!             202       221\nheimabend_index\n132\nheimabend_index\n        score                              title  event_score_id  event_id\n133  0.000006                    Pappteller-Golf             223       222\n128  0.000014           Spiel: Der Kaiser mag...             218       222\n120  0.000014                       Lichtmalerei             201       222\n116  0.000016  Fahrrad-Geschicklichkeits-Parkour             194       222\n126  0.000025                  Ich male ein Bild             216       222\n127  0.000026                Naturbilder basteln             217       222\n129  0.000026                         Naturbingo             219       222\n119  0.000029     Pfadfinder*innen ohne Plastik?             200       222\n98   0.000031                  Luftballonstaffel             162       222\n130  0.000031    Upcycling - Reisespiele basteln             220       222\n102  0.000033                       Kerzendrehen             173       222\n131  0.000033                    Wasserdetektive             221       222\n117  0.000033           Eigene Löffel schnitzen!             198       222\n100  0.000034                         Sockengolf             164       222\nheimabend_index\n133\nheimabend_index\n        score                              title  event_score_id  event_id\n132  0.000006                    Die Verwandlung             222       223\n128  0.000011           Spiel: Der Kaiser mag...             218       223\n120  0.000019                       Lichtmalerei             201       223\n116  0.000022  Fahrrad-Geschicklichkeits-Parkour             194       223\n98   0.000028                  Luftballonstaffel             162       223\n127  0.000028                Naturbilder basteln             217       223\n131  0.000029                    Wasserdetektive             221       223\n129  0.000029                         Naturbingo             219       223\n126  0.000031                  Ich male ein Bild             216       223\n113  0.000031         Wölflingsregeln besprechen             185       223\n117  0.000032           Eigene Löffel schnitzen!             198       223\n130  0.000033    Upcycling - Reisespiele basteln             220       223\n102  0.000034                       Kerzendrehen             173       223\n124  0.000034                        Traumkapsel             205       223\n"
    }
   ],
   "source": [
    "heimabend_index = 5\n",
    "\n",
    "for heimabend_index in range(0, df_feature_vector.shape[0]):\n",
    "    print('heimabend_index')\n",
    "    print(heimabend_index)\n",
    "    print('heimabend_index')\n",
    "    array_labels = df_feature_vector.columns.to_list()\n",
    "\n",
    "    df_feature_vector_with_text['index'] = df_feature_vector_with_text.index\n",
    "    title_array = df_feature_vector_with_text[['id', 'title']]\n",
    "    title_list = title_array.values.tolist()\n",
    "\n",
    "    feature_list = df_feature_vector[array_labels].values.tolist()\n",
    "\n",
    "    ary_1 = feature_list[heimabend_index]\n",
    "\n",
    "    feature_ary = []\n",
    "    for index, element in enumerate(feature_list):\n",
    "        score_cosine = distance.cosine(ary_1, element, weight)\n",
    "        feature_ary.append([score_cosine])\n",
    "        # print(score_cosine)\n",
    "\n",
    "    df_1 = pd.DataFrame(feature_ary, columns=['score'])\n",
    "    df_2 = pd.DataFrame(title_list, columns=['event_score_id', 'title'])\n",
    "    df = pd.concat([df_1, df_2], axis=1,).sort_values(by=['score']).iloc[1:15]\n",
    "    df['event_id'] = df_feature_vector_with_text.iloc[heimabend_index]['id']\n",
    "    df[['event_id', 'event_score_id', 'score']].to_sql('basic_nextbestheimabend', con=sqlEngine, if_exists='append', index=False)\n",
    "    print(df[['score', 'title', 'event_score_id', 'event_id']])"
   ]
  },
  {
   "cell_type": "code",
   "execution_count": 112,
   "metadata": {
    "tags": []
   },
   "outputs": [
    {
     "output_type": "stream",
     "name": "stdout",
     "text": "\n"
    }
   ],
   "source": [
    "print('')"
   ]
  },
  {
   "cell_type": "code",
   "execution_count": 85,
   "metadata": {
    "tags": [
     "outputPrepend"
    ]
   },
   "outputs": [
    {
     "output_type": "stream",
     "name": "stdout",
     "text": "       83       180\n107  0.000046          Schnitzeljagd mit Abstand             179       180\n106  0.000048                    Briefe an Felix             178       180\n124  0.000049                        Traumkapsel             205       180\n83   0.000050            Rucksack richtig packen             145       180\n        score                                title  event_score_id  event_id\n114  0.000027  Veganen Brotaufstrich selber machen             186       181\n93   0.000048                    Haik-Kekse backen             156       181\n110  0.000068                 Hummus selbstgemacht             182       181\n104  0.000070                       Digitales Tabu             176       181\n97   0.000071                 Kerzenwachs recyceln             161       181\n87   0.000072                    Haik-Hackfleisch?             149       181\n119  0.000075       Pfadfinder*innen ohne Plastik?             200       181\n73   0.000075                    Rotkohl-Farborgel             133       181\n117  0.000079             Eigene Löffel schnitzen!             198       181\n102  0.000085                         Kerzendrehen             173       181\n116  0.000086    Fahrrad-Geschicklichkeits-Parkour             194       181\n120  0.000087                         Lichtmalerei             201       181\n101  0.000088                     Digitale Karten?             165       181\n75   0.000088                         Lilien-Kekse             135       181\n        score                                title  event_score_id  event_id\n73   0.000029                    Rotkohl-Farborgel             133       182\n120  0.000048                         Lichtmalerei             201       182\n93   0.000049                    Haik-Kekse backen             156       182\n102  0.000049                         Kerzendrehen             173       182\n117  0.000051             Eigene Löffel schnitzen!             198       182\n118  0.000052                Pfadfinder-Planzeiger             199       182\n97   0.000054                 Kerzenwachs recyceln             161       182\n119  0.000054       Pfadfinder*innen ohne Plastik?             200       182\n116  0.000055    Fahrrad-Geschicklichkeits-Parkour             194       182\n124  0.000055                          Traumkapsel             205       182\n115  0.000056                 Morsen online lernen             187       182\n114  0.000057  Veganen Brotaufstrich selber machen             186       182\n105  0.000057               Online-Spieleplattform             177       182\n108  0.000058         Online Treffen (gather-town)             180       182\n        score                                   title  event_score_id  event_id\n106  0.000035                         Briefe an Felix             178       183\n112  0.000042  Welche Pfadfinder-Regel ist unwichtig?             184       183\n90   0.000044                Lieblingsbuch vorstellen             152       183\n103  0.000044               Sippenvergleich - digital             175       183\n124  0.000046                             Traumkapsel             205       183\n105  0.000050                  Online-Spieleplattform             177       183\n59   0.000052    25 Dinge - eure Sippen 'bucket list'             113       183\n108  0.000053            Online Treffen (gather-town)             180       183\n77   0.000054                      Stadt, Land, Fluss             137       183\n85   0.000054        Baut eure eigene Sippen-Homepage             147       183\n100  0.000055                              Sockengolf             164       183\n83   0.000056                 Rucksack richtig packen             145       183\n122  0.000057              Gruppenstunde als Talkshow             203       183\n120  0.000058                            Lichtmalerei             201       183\n        score                              title  event_score_id  event_id\n113  0.000028         Wölflingsregeln besprechen             185       184\n122  0.000033         Gruppenstunde als Talkshow             203       184\n111  0.000042    Weisheiten diskutieren (Zitate)             183       184\n125  0.000051    Unser Lagerplatz in der Zukunft             206       184\n98   0.000061                  Luftballonstaffel             162       184\n124  0.000061                        Traumkapsel             205       184\n104  0.000064                     Digitales Tabu             176       184\n120  0.000064                       Lichtmalerei             201       184\n117  0.000064           Eigene Löffel schnitzen!             198       184\n102  0.000066                       Kerzendrehen             173       184\n119  0.000068     Pfadfinder*innen ohne Plastik?             200       184\n103  0.000068          Sippenvergleich - digital             175       184\n106  0.000069                    Briefe an Felix             178       184\n116  0.000070  Fahrrad-Geschicklichkeits-Parkour             194       184\n        score                                   title  event_score_id  event_id\n122  0.000027              Gruppenstunde als Talkshow             203       185\n112  0.000028  Welche Pfadfinder-Regel ist unwichtig?             184       185\n120  0.000039                            Lichtmalerei             201       185\n125  0.000043         Unser Lagerplatz in der Zukunft             206       185\n116  0.000046       Fahrrad-Geschicklichkeits-Parkour             194       185\n117  0.000048                Eigene Löffel schnitzen!             198       185\n102  0.000048                            Kerzendrehen             173       185\n124  0.000049                             Traumkapsel             205       185\n119  0.000050          Pfadfinder*innen ohne Plastik?             200       185\n98   0.000050                       Luftballonstaffel             162       185\n83   0.000051                 Rucksack richtig packen             145       185\n104  0.000054                          Digitales Tabu             176       185\n106  0.000058                         Briefe an Felix             178       185\n97   0.000059                    Kerzenwachs recyceln             161       185\n        score                                  title  event_score_id  event_id\n109  0.000027  Selbstgemachte Haselnuss-Schoko Creme             181       186\n104  0.000046                         Digitales Tabu             176       186\n110  0.000057                   Hummus selbstgemacht             182       186\n87   0.000060                      Haik-Hackfleisch?             149       186\n117  0.000062               Eigene Löffel schnitzen!             198       186\n97   0.000062                   Kerzenwachs recyceln             161       186\n119  0.000064         Pfadfinder*innen ohne Plastik?             200       186\n73   0.000065                      Rotkohl-Farborgel             133       186\n101  0.000070                       Digitale Karten?             165       186\n122  0.000071             Gruppenstunde als Talkshow             203       186\n124  0.000071                            Traumkapsel             205       186\n116  0.000071      Fahrrad-Geschicklichkeits-Parkour             194       186\n102  0.000071                           Kerzendrehen             173       186\n120  0.000074                           Lichtmalerei             201       186\n        score                              title  event_score_id  event_id\n105  0.000020             Online-Spieleplattform             177       187\n77   0.000026                 Stadt, Land, Fluss             137       187\n108  0.000027       Online Treffen (gather-town)             180       187\n85   0.000037   Baut eure eigene Sippen-Homepage             147       187\n68   0.000041  Wer findet den Gegenstand zuerst?             127       187\n71   0.000041         Behelfs-Schutzmasken nähen             131       187\n118  0.000047              Pfadfinder-Planzeiger             199       187\n99   0.000049            Handcreme selber machen             163       187\n100  0.000051                         Sockengolf             164       187\n83   0.000051            Rucksack richtig packen             145       187\n121  0.000054                  Finde nach Hause!             202       187\n106  0.000054                    Briefe an Felix             178       187\n120  0.000054                       Lichtmalerei             201       187\n110  0.000056               Hummus selbstgemacht             182       187\n        score                                   title  event_score_id  event_id\n120  0.000027                            Lichtmalerei             201       194\n98   0.000031                       Luftballonstaffel             162       194\n119  0.000036          Pfadfinder*innen ohne Plastik?             200       194\n117  0.000039                Eigene Löffel schnitzen!             198       194\n102  0.000044                            Kerzendrehen             173       194\n113  0.000046              Wölflingsregeln besprechen             185       194\n97   0.000048                    Kerzenwachs recyceln             161       194\n124  0.000048                             Traumkapsel             205       194\n122  0.000048              Gruppenstunde als Talkshow             203       194\n96   0.000049  [Nur für Rover] Feuerfestigkeit testen             159       194\n100  0.000050                              Sockengolf             164       194\n104  0.000052                          Digitales Tabu             176       194\n121  0.000053                       Finde nach Hause!             202       194\n125  0.000055         Unser Lagerplatz in der Zukunft             206       194\n        score                              title  event_score_id  event_id\n102  0.000034                       Kerzendrehen             173       198\n120  0.000037                       Lichtmalerei             201       198\n116  0.000039  Fahrrad-Geschicklichkeits-Parkour             194       198\n119  0.000041     Pfadfinder*innen ohne Plastik?             200       198\n97   0.000042               Kerzenwachs recyceln             161       198\n124  0.000045                        Traumkapsel             205       198\n122  0.000047         Gruppenstunde als Talkshow             203       198\n95   0.000047              Pfeil und Bogen bauen             158       198\n113  0.000048         Wölflingsregeln besprechen             185       198\n79   0.000049          Minigolfbahn selber bauen             139       198\n110  0.000051               Hummus selbstgemacht             182       198\n104  0.000055                     Digitales Tabu             176       198\n98   0.000056                  Luftballonstaffel             162       198\n106  0.000056                    Briefe an Felix             178       198\n        score                             title  event_score_id  event_id\n121  0.000025                 Finde nach Hause!             202       199\n101  0.000032                  Digitale Karten?             165       199\n102  0.000046                      Kerzendrehen             173       199\n115  0.000047              Morsen online lernen             187       199\n120  0.000048                      Lichtmalerei             201       199\n124  0.000052                       Traumkapsel             205       199\n71   0.000052        Behelfs-Schutzmasken nähen             131       199\n110  0.000052              Hummus selbstgemacht             182       199\n97   0.000054              Kerzenwachs recyceln             161       199\n107  0.000057         Schnitzeljagd mit Abstand             179       199\n117  0.000060          Eigene Löffel schnitzen!             198       199\n85   0.000060  Baut eure eigene Sippen-Homepage             147       199\n108  0.000060      Online Treffen (gather-town)             180       199\n105  0.000061            Online-Spieleplattform             177       199\n        score                              title  event_score_id  event_id\n125  0.000033    Unser Lagerplatz in der Zukunft             206       200\n120  0.000034                       Lichtmalerei             201       200\n116  0.000036  Fahrrad-Geschicklichkeits-Parkour             194       200\n117  0.000041           Eigene Löffel schnitzen!             198       200\n102  0.000042                       Kerzendrehen             173       200\n97   0.000045               Kerzenwachs recyceln             161       200\n124  0.000049                        Traumkapsel             205       200\n113  0.000050         Wölflingsregeln besprechen             185       200\n122  0.000050         Gruppenstunde als Talkshow             203       200\n104  0.000051                     Digitales Tabu             176       200\n98   0.000052                  Luftballonstaffel             162       200\n110  0.000054               Hummus selbstgemacht             182       200\n83   0.000054            Rucksack richtig packen             145       200\n121  0.000058                  Finde nach Hause!             202       200\n        score                              title  event_score_id  event_id\n102  0.000015                       Kerzendrehen             173       201\n124  0.000025                        Traumkapsel             205       201\n100  0.000025                         Sockengolf             164       201\n98   0.000027                  Luftballonstaffel             162       201\n116  0.000027  Fahrrad-Geschicklichkeits-Parkour             194       201\n97   0.000032               Kerzenwachs recyceln             161       201\n119  0.000034     Pfadfinder*innen ohne Plastik?             200       201\n106  0.000037                    Briefe an Felix             178       201\n117  0.000037           Eigene Löffel schnitzen!             198       201\n104  0.000037                     Digitales Tabu             176       201\n113  0.000039         Wölflingsregeln besprechen             185       201\n122  0.000041         Gruppenstunde als Talkshow             203       201\n118  0.000048              Pfadfinder-Planzeiger             199       201\n110  0.000048               Hummus selbstgemacht             182       201\n        score                              title  event_score_id  event_id\n118  0.000025              Pfadfinder-Planzeiger             199       202\n107  0.000042          Schnitzeljagd mit Abstand             179       202\n101  0.000043                   Digitale Karten?             165       202\n120  0.000052                       Lichtmalerei             201       202\n116  0.000053  Fahrrad-Geschicklichkeits-Parkour             194       202\n108  0.000053       Online Treffen (gather-town)             180       202\n115  0.000054               Morsen online lernen             187       202\n105  0.000054             Online-Spieleplattform             177       202\n119  0.000058     Pfadfinder*innen ohne Plastik?             200       202\n98   0.000059                  Luftballonstaffel             162       202\n110  0.000060               Hummus selbstgemacht             182       202\n113  0.000061         Wölflingsregeln besprechen             185       202\n77   0.000062                 Stadt, Land, Fluss             137       202\n117  0.000064           Eigene Löffel schnitzen!             198       202\n        score                                   title  event_score_id  event_id\n125  0.000022         Unser Lagerplatz in der Zukunft             206       203\n124  0.000026                             Traumkapsel             205       203\n113  0.000027              Wölflingsregeln besprechen             185       203\n112  0.000033  Welche Pfadfinder-Regel ist unwichtig?             184       203\n102  0.000036                            Kerzendrehen             173       203\n120  0.000041                            Lichtmalerei             201       203\n98   0.000044                       Luftballonstaffel             162       203\n90   0.000045                Lieblingsbuch vorstellen             152       203\n104  0.000045                          Digitales Tabu             176       203\n117  0.000047                Eigene Löffel schnitzen!             198       203\n103  0.000047               Sippenvergleich - digital             175       203\n116  0.000048       Fahrrad-Geschicklichkeits-Parkour             194       203\n119  0.000050          Pfadfinder*innen ohne Plastik?             200       203\n108  0.000051            Online Treffen (gather-town)             180       203\n        score                                   title  event_score_id  event_id\n119  0.000096          Pfadfinder*innen ohne Plastik?             200       204\n124  0.000097                             Traumkapsel             205       204\n125  0.000099         Unser Lagerplatz in der Zukunft             206       204\n111  0.000102         Weisheiten diskutieren (Zitate)             183       204\n122  0.000103              Gruppenstunde als Talkshow             203       204\n112  0.000106  Welche Pfadfinder-Regel ist unwichtig?             184       204\n120  0.000106                            Lichtmalerei             201       204\n88   0.000107            Knoten mit Lakritz-Schnecken             150       204\n86   0.000108              Eigenes Hörspiel aufnehmen             148       204\n102  0.000109                            Kerzendrehen             173       204\n103  0.000110               Sippenvergleich - digital             175       204\n118  0.000112                   Pfadfinder-Planzeiger             199       204\n110  0.000113                    Hummus selbstgemacht             182       204\n104  0.000115                          Digitales Tabu             176       204\n        score                              title  event_score_id  event_id\n102  0.000023                       Kerzendrehen             173       205\n120  0.000025                       Lichtmalerei             201       205\n122  0.000026         Gruppenstunde als Talkshow             203       205\n106  0.000032                    Briefe an Felix             178       205\n104  0.000038                     Digitales Tabu             176       205\n98   0.000038                  Luftballonstaffel             162       205\n97   0.000039               Kerzenwachs recyceln             161       205\n90   0.000041           Lieblingsbuch vorstellen             152       205\n100  0.000042                         Sockengolf             164       205\n117  0.000045           Eigene Löffel schnitzen!             198       205\n111  0.000046    Weisheiten diskutieren (Zitate)             183       205\n125  0.000046    Unser Lagerplatz in der Zukunft             206       205\n103  0.000047          Sippenvergleich - digital             175       205\n116  0.000048  Fahrrad-Geschicklichkeits-Parkour             194       205\n        score                                   title  event_score_id  event_id\n122  0.000022              Gruppenstunde als Talkshow             203       206\n119  0.000033          Pfadfinder*innen ohne Plastik?             200       206\n113  0.000043              Wölflingsregeln besprechen             185       206\n124  0.000046                             Traumkapsel             205       206\n112  0.000051  Welche Pfadfinder-Regel ist unwichtig?             184       206\n116  0.000055       Fahrrad-Geschicklichkeits-Parkour             194       206\n120  0.000058                            Lichtmalerei             201       206\n102  0.000059                            Kerzendrehen             173       206\n117  0.000060                Eigene Löffel schnitzen!             198       206\n90   0.000060                Lieblingsbuch vorstellen             152       206\n98   0.000061                       Luftballonstaffel             162       206\n104  0.000061                          Digitales Tabu             176       206\n97   0.000064                    Kerzenwachs recyceln             161       206\n108  0.000069            Online Treffen (gather-town)             180       206\n"
    },
    {
     "output_type": "error",
     "ename": "IndexError",
     "evalue": "list index out of range",
     "traceback": [
      "\u001b[0;31m---------------------------------------------------------------------------\u001b[0m",
      "\u001b[0;31mIndexError\u001b[0m                                Traceback (most recent call last)",
      "\u001b[0;32m<ipython-input-85-63838df1b5c6>\u001b[0m in \u001b[0;36m<module>\u001b[0;34m\u001b[0m\n\u001b[1;32m     10\u001b[0m     \u001b[0mfeature_list\u001b[0m \u001b[0;34m=\u001b[0m \u001b[0mdf_feature_vector\u001b[0m\u001b[0;34m[\u001b[0m\u001b[0marray_labels\u001b[0m\u001b[0;34m]\u001b[0m\u001b[0;34m.\u001b[0m\u001b[0mvalues\u001b[0m\u001b[0;34m.\u001b[0m\u001b[0mtolist\u001b[0m\u001b[0;34m(\u001b[0m\u001b[0;34m)\u001b[0m\u001b[0;34m\u001b[0m\u001b[0;34m\u001b[0m\u001b[0m\n\u001b[1;32m     11\u001b[0m \u001b[0;34m\u001b[0m\u001b[0m\n\u001b[0;32m---> 12\u001b[0;31m     \u001b[0mary_1\u001b[0m \u001b[0;34m=\u001b[0m \u001b[0mfeature_list\u001b[0m\u001b[0;34m[\u001b[0m\u001b[0mheimabend_index\u001b[0m\u001b[0;34m]\u001b[0m\u001b[0;34m\u001b[0m\u001b[0;34m\u001b[0m\u001b[0m\n\u001b[0m\u001b[1;32m     13\u001b[0m \u001b[0;34m\u001b[0m\u001b[0m\n\u001b[1;32m     14\u001b[0m     \u001b[0mfeature_ary\u001b[0m \u001b[0;34m=\u001b[0m \u001b[0;34m[\u001b[0m\u001b[0;34m]\u001b[0m\u001b[0;34m\u001b[0m\u001b[0;34m\u001b[0m\u001b[0m\n",
      "\u001b[0;31mIndexError\u001b[0m: list index out of range"
     ]
    }
   ],
   "source": []
  },
  {
   "cell_type": "code",
   "execution_count": null,
   "metadata": {},
   "outputs": [],
   "source": []
  }
 ]
}